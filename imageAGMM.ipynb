{
 "cells": [
  {
   "cell_type": "code",
   "execution_count": 1,
   "metadata": {},
   "outputs": [],
   "source": [
    "from mliv.dgps import get_data, get_tau_fn, fn_dict\n"
   ]
  },
  {
   "cell_type": "code",
   "execution_count": 1,
   "metadata": {},
   "outputs": [],
   "source": [
    "### module imports\n",
    "%load_ext autoreload\n",
    "%autoreload 2\n",
    "import warnings\n",
    "warnings.simplefilter('ignore')\n",
    "import itertools\n",
    "import numpy as np\n",
    "import matplotlib.pyplot as plt \n",
    "import torch\n",
    "import torch.nn as nn\n",
    "import torch.nn.functional as F\n",
    "from torchvision import datasets, transforms\n",
    "from sklearn.model_selection import train_test_split\n",
    "import itertools\n",
    "import os\n",
    "\n",
    "### import from our files\n",
    "from mliv.dgps import get_data, get_tau_fn, fn_dict\n",
    "from mliv.neuralnet.utilities import log_metrics, plot_results, hyperparam_grid,\\\n",
    "                                     hyperparam_mult_grid, eval_performance\n",
    "from mliv.neuralnet.mnist_dgps import AbstractMNISTxz\n",
    "from mliv.neuralnet import AGMM,KernelLayerMMDGMM\n",
    "from mliv.neuralnet.rbflayer import gaussian, inverse_multiquadric"
   ]
  },
  {
   "cell_type": "markdown",
   "metadata": {},
   "source": [
    "# MNIST DGPs"
   ]
  },
  {
   "cell_type": "markdown",
   "metadata": {
    "tags": []
   },
   "source": [
    "## Convolutional Neural Networks"
   ]
  },
  {
   "cell_type": "code",
   "execution_count": 2,
   "metadata": {},
   "outputs": [],
   "source": [
    "class CNN_Z_agmm(nn.Module):\n",
    "    def __init__(self):\n",
    "        super(CNN_Z_agmm, self).__init__()\n",
    "        self.conv1 = nn.Conv2d(1, 32, 3, 1)\n",
    "        self.conv2 = nn.Conv2d(32, 64, 3, 1)\n",
    "        self.dropout1 = nn.Dropout2d(0.25)\n",
    "        self.dropout2 = nn.Dropout2d(0.5)\n",
    "        self.fc1 = nn.Linear(9216, 128)\n",
    "        self.fc2 = nn.Linear(128, 1)\n",
    "\n",
    "    def forward(self, x):\n",
    "        x = self.conv1(x)\n",
    "        x = F.relu(x)\n",
    "        x = self.conv2(x)\n",
    "        x = F.relu(x)\n",
    "        x = F.max_pool2d(x, 2)\n",
    "        x = self.dropout1(x)\n",
    "        x = torch.flatten(x, 1)\n",
    "        x = self.fc1(x)\n",
    "        x = F.relu(x)\n",
    "        x = self.dropout2(x)\n",
    "        x = self.fc2(x)\n",
    "        output = x  # F.log_softmax(x, dim=1)\n",
    "        return output.squeeze()\n",
    "\n",
    "\n",
    "class CNN_Z_kernel(nn.Module):\n",
    "    def __init__(self, g_features=100):\n",
    "        super(CNN_Z_kernel, self).__init__()\n",
    "        self.conv1 = nn.Conv2d(1, 32, 3, 1)\n",
    "        self.conv2 = nn.Conv2d(32, 64, 3, 1)\n",
    "        self.dropout1 = nn.Dropout2d(0.25)\n",
    "        self.dropout2 = nn.Dropout2d(0.5)\n",
    "        self.fc1 = nn.Linear(9216, 128)\n",
    "        self.fc2 = nn.Linear(128, g_features)\n",
    "\n",
    "    def forward(self, x):\n",
    "        x = self.conv1(x)\n",
    "        x = F.relu(x)\n",
    "        x = self.conv2(x)\n",
    "        x = F.relu(x)\n",
    "        x = F.max_pool2d(x, 2)\n",
    "        x = self.dropout1(x)\n",
    "        x = torch.flatten(x, 1)\n",
    "        x = self.fc1(x)\n",
    "        x = F.relu(x)\n",
    "        x = self.dropout2(x)\n",
    "        x = self.fc2(x)\n",
    "        output = x  # F.log_softmax(x, dim=1)\n",
    "        return output\n",
    "\n",
    "\n",
    "class CNN_X(nn.Module):\n",
    "    def __init__(self):\n",
    "        super(CNN_X, self).__init__()\n",
    "        self.conv1 = nn.Conv2d(1, 32, 3, 1)\n",
    "        self.conv2 = nn.Conv2d(32, 64, 3, 1)\n",
    "        self.dropout1 = nn.Dropout2d(0.25)\n",
    "        self.dropout2 = nn.Dropout2d(0.5)\n",
    "        self.fc1 = nn.Linear(9216, 128)\n",
    "        self.fc2 = nn.Linear(128, 1)\n",
    "\n",
    "    def forward(self, x):\n",
    "        x = self.conv1(x)\n",
    "        x = F.relu(x)\n",
    "        x = self.conv2(x)\n",
    "        x = F.relu(x)\n",
    "        x = F.max_pool2d(x, 2)\n",
    "        x = self.dropout1(x)\n",
    "        x = torch.flatten(x, 1)\n",
    "        x = self.fc1(x)\n",
    "        x = F.relu(x)\n",
    "        x = self.dropout2(x)\n",
    "        x = self.fc2(x)\n",
    "        output = x  # F.log_softmax(x, dim=1)\n",
    "        return output.squeeze()"
   ]
  },
  {
   "cell_type": "markdown",
   "metadata": {
    "tags": []
   },
   "source": [
    "## Fully Connected Networks"
   ]
  },
  {
   "cell_type": "code",
   "execution_count": 3,
   "metadata": {},
   "outputs": [],
   "source": [
    "def fc_z_kernel(n_z, n_hidden, g_features, dropout_p):\n",
    "    FC_Z_kernel = nn.Sequential(\n",
    "        nn.Dropout(p=dropout_p),\n",
    "        nn.Linear(n_z, n_hidden),\n",
    "        nn.LeakyReLU(),\n",
    "        nn.Dropout(p=dropout_p),\n",
    "        nn.Linear(n_hidden, g_features),\n",
    "        nn.ReLU(),\n",
    "    )\n",
    "    return FC_Z_kernel\n",
    "\n",
    "\n",
    "def fc_z_agmm(n_z, n_hidden, dropout_p):\n",
    "    FC_Z_agmm = nn.Sequential(\n",
    "        nn.Dropout(p=dropout_p),\n",
    "        nn.Linear(n_z, n_hidden),\n",
    "        nn.LeakyReLU(),\n",
    "        nn.Dropout(p=dropout_p),\n",
    "        nn.Linear(n_hidden, 1),\n",
    "    )\n",
    "    return FC_Z_agmm\n",
    "\n",
    "\n",
    "def fc_x(n_t, n_hidden, dropout_p):\n",
    "    FC_X = nn.Sequential(\n",
    "        nn.Dropout(p=dropout_p),\n",
    "        nn.Linear(n_t, n_hidden),\n",
    "        nn.LeakyReLU(),\n",
    "        nn.Dropout(p=dropout_p),\n",
    "        nn.Linear(n_hidden, 1),\n",
    "    )\n",
    "    return FC_X"
   ]
  },
  {
   "cell_type": "markdown",
   "metadata": {
    "tags": []
   },
   "source": [
    "## Data Generation Function"
   ]
  },
  {
   "cell_type": "code",
   "execution_count": 4,
   "metadata": {},
   "outputs": [],
   "source": [
    "def generate_data(\n",
    "    X_IMAGE=False,\n",
    "    Z_IMAGE=False,\n",
    "    tau_fn=\"abs\",\n",
    "    n_samples=10000,\n",
    "    n_instruments=2,\n",
    "    iv_strength=0.5,\n",
    "    device=None,\n",
    "):\n",
    "    mnist_dgp = AbstractMNISTxz(X_IMAGE, Z_IMAGE, tau_fn)\n",
    "    n_test = n_samples // 10\n",
    "    n_t = 1\n",
    "\n",
    "    T, Z, Y, G, _ = mnist_dgp.generate_data(\n",
    "        n_samples, tau_fn=tau_fn, n_instruments=n_instruments, iv_strength=iv_strength\n",
    "    )\n",
    "\n",
    "    T_test, Z_test, Y_test, G_test, _ = mnist_dgp.generate_data(\n",
    "        n_test, tau_fn=tau_fn, n_instruments=n_instruments, iv_strength=iv_strength,\n",
    "    )\n",
    "\n",
    "    Z_train, Z_val, T_train, T_val, Y_train, Y_val, G_train, G_val = train_test_split(\n",
    "        Z, T, Y, G, test_size=0.1, shuffle=True\n",
    "    )\n",
    "    Z_train, T_train, Y_train, G_train = map(\n",
    "        lambda x: torch.Tensor(x), (Z_train, T_train, Y_train, G_train)\n",
    "    )\n",
    "    Z_val, T_val, Y_val, G_val = map(\n",
    "        lambda x: torch.Tensor(x).to(device), (Z_val, T_val, Y_val, G_val)\n",
    "    )\n",
    "    Z_test, T_test, Y_test, G_test = map(\n",
    "        lambda x: torch.Tensor(x).to(device), (Z_test, T_test, Y_test, G_test)\n",
    "    )\n",
    "\n",
    "    data_array = []\n",
    "    data_array.append((Z_train, T_train, Y_train, G_train))\n",
    "    data_array.append((Z_val, T_val, Y_val, G_val))\n",
    "    data_array.append((Z_test, T_test, Y_test, G_test))\n",
    "    return data_array"
   ]
  },
  {
   "cell_type": "markdown",
   "metadata": {
    "tags": []
   },
   "source": [
    "## Functions to Train AGMM and KernelLayerGMM estimators"
   ]
  },
  {
   "cell_type": "code",
   "execution_count": 17,
   "metadata": {},
   "outputs": [],
   "source": [
    "### train AGMM\n",
    "def train_agmm(\n",
    "    Z_train,\n",
    "    T_train,\n",
    "    Y_train,\n",
    "    G_train,\n",
    "    Z_val,\n",
    "    T_val,\n",
    "    Y_val,\n",
    "    G_val,\n",
    "    T_test,\n",
    "    G_test,\n",
    "    X_IMAGE=False,\n",
    "    Z_IMAGE=False,\n",
    "    n_t=1,\n",
    "    n_instruments=2,\n",
    "    n_hidden=200,\n",
    "    dropout_p=0.1,\n",
    "    learner_lr=1e-4,\n",
    "    adversary_lr=1e-4,\n",
    "    learner_l2=1e-4,\n",
    "    adversary_l2=1e-4,\n",
    "    adversary_norm_reg=1e-4,\n",
    "    n_epochs=100,\n",
    "    batch_size=100,\n",
    "    train_learner_every=1,\n",
    "    train_adversary_every=1,\n",
    "):\n",
    "    if X_IMAGE:\n",
    "        learner = CNN_X()\n",
    "    else:\n",
    "        learner = fc_x(n_t, n_hidden, dropout_p)\n",
    "    if Z_IMAGE:\n",
    "        adversary = CNN_Z_agmm()\n",
    "    else:\n",
    "        adversary = fc_z_agmm(n_instruments, n_hidden, dropout_p)\n",
    "\n",
    "    def logger(learner, adversary, epoch, writer):\n",
    "        if not X_IMAGE:\n",
    "            writer.add_histogram(\"learner\", learner[-1].weight, epoch)\n",
    "        if not Z_IMAGE:\n",
    "            writer.add_histogram(\"adversary\", adversary[-1].weight, epoch)\n",
    "        log_metrics(\n",
    "            Z_val,\n",
    "            T_val,\n",
    "            Y_val,\n",
    "            Z_val,\n",
    "            T_val,\n",
    "            Y_val,\n",
    "            T_test,\n",
    "            learner,\n",
    "            adversary,\n",
    "            epoch,\n",
    "            writer,\n",
    "            true_of_T=G_val,\n",
    "        )\n",
    "\n",
    "    np.random.seed(12356)\n",
    "    print(\"---Hyperparameters---\")\n",
    "    print(\"Learner Learning Rate:\", learner_lr)\n",
    "    print(\"Adversary learning rate:\", adversary_lr)\n",
    "    print(\"Learner_l2:\", learner_l2)\n",
    "    print(\"Adversary_l2:\", adversary_l2)\n",
    "    print(\"Number of epochs:\", n_epochs)\n",
    "    print(\"Batch Size:\", batch_size)\n",
    "    agmm = AGMM(learner, adversary).fit(\n",
    "        Z_train,\n",
    "        T_train,\n",
    "        Y_train,\n",
    "        learner_lr=learner_lr,\n",
    "        adversary_lr=adversary_lr,\n",
    "        learner_l2=learner_l2,\n",
    "        adversary_l2=adversary_l2,\n",
    "        n_epochs=n_epochs,\n",
    "        bs=batch_size,\n",
    "        logger=None,\n",
    "        model_dir=\"agmm_model\",\n",
    "        device='cuda',\n",
    "        train_learner_every=train_learner_every,\n",
    "        train_adversary_every=train_adversary_every,\n",
    "    )\n",
    "\n",
    "    return agmm\n",
    "\n",
    "\n",
    "#### Train KernelLayerGMM\n",
    "def train_kernellayergmm(\n",
    "    Z_train,\n",
    "    T_train,\n",
    "    Y_train,\n",
    "    G_train,\n",
    "    Z_val,\n",
    "    T_val,\n",
    "    Y_val,\n",
    "    G_val,\n",
    "    T_test,\n",
    "    G_test,\n",
    "    g_features=100,\n",
    "    kernel_fn=gaussian,\n",
    "    centers=None,\n",
    "    sigmas=None,\n",
    "    X_IMAGE=False,\n",
    "    Z_IMAGE=False,\n",
    "    n_t=1,\n",
    "    n_instruments=2,\n",
    "    n_hidden=200,\n",
    "    dropout_p=0.1,\n",
    "    learner_lr=1e-4,\n",
    "    adversary_lr=1e-4,\n",
    "    learner_l2=1e-4,\n",
    "    adversary_l2=1e-4,\n",
    "    adversary_norm_reg=1e-4,\n",
    "    n_epochs=100,\n",
    "    batch_size=100,\n",
    "    train_learner_every=1,\n",
    "    train_adversary_every=1,\n",
    "):\n",
    "    if X_IMAGE:\n",
    "        learner = CNN_X()\n",
    "    else:\n",
    "        learner = fc_x(n_t, n_hidden, dropout_p)\n",
    "    if Z_IMAGE:\n",
    "        adversary = CNN_Z_kernel(g_features)\n",
    "    else:\n",
    "        adversary = fc_z_kernel(n_instruments, n_hidden, g_features, dropout_p)\n",
    "\n",
    "    def logger(learner, adversary, epoch, writer):\n",
    "        if not X_IMAGE:\n",
    "            writer.add_histogram(\"learner\", learner[-1].weight, epoch)\n",
    "        # if not Z_IMAGE:\n",
    "        #  writer.add_histogram('adversary', adversary[-1].weight, epoch)\n",
    "        writer.add_histogram(\"adversary\", adversary.beta.weight, epoch)\n",
    "        log_metrics(\n",
    "            Z_val,\n",
    "            T_val,\n",
    "            Y_val,\n",
    "            Z_val,\n",
    "            T_val,\n",
    "            Y_val,\n",
    "            T_test,\n",
    "            learner,\n",
    "            adversary,\n",
    "            epoch,\n",
    "            writer,\n",
    "            true_of_T=G_val,\n",
    "        )\n",
    "\n",
    "    np.random.seed(12356)\n",
    "    print(\"---Hyperparameters---\")\n",
    "    print(\"Learner Learning Rate:\", learner_lr)\n",
    "    print(\"Adversary learning rate:\", adversary_lr)\n",
    "    print(\"Learner_l2:\", learner_l2)\n",
    "    print(\"Adversary_l2:\", adversary_l2)\n",
    "    print(\"Number of epochs:\", n_epochs)\n",
    "    print(\"Batch Size:\", batch_size)\n",
    "    print(\"G features\", g_features)\n",
    "    print(\"Number of centers\", n_centers)\n",
    "    print(\"Kernel function\", kernel_fn.__name__)\n",
    "    klayermmdgmm = KernelLayerMMDGMM(\n",
    "        learner,\n",
    "        adversary,\n",
    "        g_features,\n",
    "        n_centers,\n",
    "        kernel_fn,\n",
    "        centers=centers,\n",
    "        sigmas=sigmas,\n",
    "    )\n",
    "    klayermmdgmm.fit(\n",
    "        Z_train,\n",
    "        T_train,\n",
    "        Y_train,\n",
    "        learner_l2=learner_l2,\n",
    "        adversary_l2=adversary_l2,\n",
    "        adversary_norm_reg=adversary_norm_reg,\n",
    "        learner_lr=learner_lr,\n",
    "        adversary_lr=adversary_lr,\n",
    "        n_epochs=n_epochs,\n",
    "        bs=bs,\n",
    "        logger=logger,\n",
    "        model_dir=\"klayer_model\",\n",
    "        device=device,\n",
    "        train_learner_every=train_learner_every,\n",
    "        train_adversary_every=train_adversary_every,\n",
    "    )\n",
    "\n",
    "    return klayermmdgmm"
   ]
  },
  {
   "cell_type": "markdown",
   "metadata": {
    "tags": []
   },
   "source": [
    "## Global hyper-parameters"
   ]
  },
  {
   "cell_type": "code",
   "execution_count": 11,
   "metadata": {},
   "outputs": [],
   "source": [
    "device = torch.cuda.current_device() if torch.cuda.is_available() else None"
   ]
  },
  {
   "cell_type": "markdown",
   "metadata": {
    "tags": []
   },
   "source": [
    "## Z - Image"
   ]
  },
  {
   "cell_type": "code",
   "execution_count": 12,
   "metadata": {},
   "outputs": [],
   "source": [
    "### Generate data\n",
    "X_IMAGE = True\n",
    "Z_IMAGE = True\n",
    "tau_fn = \"abs\"\n",
    "n_samples = 1000\n",
    "n_instruments = 2\n",
    "iv_strength = 0.5\n",
    "data = generate_data(\n",
    "    X_IMAGE=X_IMAGE,\n",
    "    Z_IMAGE=Z_IMAGE,\n",
    "    tau_fn=tau_fn,\n",
    "    n_samples=n_samples,\n",
    "    n_instruments=n_instruments,\n",
    "    iv_strength=iv_strength,\n",
    "    device=device,\n",
    ")\n",
    "(Z_train, T_train, Y_train, G_train) = data[0]\n",
    "(Z_val, T_val, Y_val, G_val) = data[1]\n",
    "(Z_test, T_test, Y_test, G_test) = data[2]"
   ]
  },
  {
   "cell_type": "markdown",
   "metadata": {},
   "source": [
    "### Train AGMM - Z image"
   ]
  },
  {
   "cell_type": "code",
   "execution_count": 13,
   "metadata": {},
   "outputs": [
    {
     "ename": "NameError",
     "evalue": "name 'train_agmm' is not defined",
     "output_type": "error",
     "traceback": [
      "\u001b[1;31m---------------------------------------------------------------------------\u001b[0m",
      "\u001b[1;31mNameError\u001b[0m                                 Traceback (most recent call last)",
      "File \u001b[1;32m<timed exec>:14\u001b[0m\n",
      "\u001b[1;31mNameError\u001b[0m: name 'train_agmm' is not defined"
     ]
    }
   ],
   "source": [
    "%%time\n",
    "# parameters for networks\n",
    "dropout_p = 0.1\n",
    "n_t = 1\n",
    "n_hidden = 200\n",
    "\n",
    "# local hyperparam\n",
    "learner_lr = 1e-4\n",
    "adversary_lr = 1e-4\n",
    "learner_l2 = 1e-4\n",
    "adversary_l2 = 1e-4\n",
    "adversary_norm_reg = 1e-4\n",
    "n_epochs = 1\n",
    "bs = 100\n",
    "agmm = train_agmm(Z_train, T_train, Y_train, G_train, Z_val, T_val, Y_val, G_val, T_test, G_test,\n",
    "                  X_IMAGE=True, Z_IMAGE=True, n_t=n_t, n_instruments=n_instruments,\n",
    "                  n_hidden=n_hidden, dropout_p=dropout_p, learner_lr=learner_lr, adversary_lr=adversary_lr,\n",
    "                  learner_l2=learner_l2, adversary_l2=adversary_l2, adversary_norm_reg=adversary_norm_reg,\n",
    "                  n_epochs=n_epochs, batch_size=bs)\n",
    "\n",
    "\n",
    "#plot_results(agmm, T_test, true_of_T_test=G_test)\n",
    "eval_performance(agmm,T_test, true_of_T_test=G_test)"
   ]
  },
  {
   "cell_type": "markdown",
   "metadata": {
    "tags": []
   },
   "source": [
    "### Train Kernel GMM - Z image"
   ]
  },
  {
   "cell_type": "code",
   "execution_count": 14,
   "metadata": {},
   "outputs": [
    {
     "ename": "NameError",
     "evalue": "name 'train_kernellayergmm' is not defined",
     "output_type": "error",
     "traceback": [
      "\u001b[1;31m---------------------------------------------------------------------------\u001b[0m",
      "\u001b[1;31mNameError\u001b[0m                                 Traceback (most recent call last)",
      "Cell \u001b[1;32mIn [14], line 23\u001b[0m\n\u001b[0;32m     20\u001b[0m n_epochs \u001b[38;5;241m=\u001b[39m \u001b[38;5;241m1\u001b[39m\n\u001b[0;32m     21\u001b[0m bs \u001b[38;5;241m=\u001b[39m \u001b[38;5;241m100\u001b[39m\n\u001b[1;32m---> 23\u001b[0m klayermmdgmm \u001b[38;5;241m=\u001b[39m \u001b[43mtrain_kernellayergmm\u001b[49m(\n\u001b[0;32m     24\u001b[0m     Z_train,\n\u001b[0;32m     25\u001b[0m     T_train,\n\u001b[0;32m     26\u001b[0m     Y_train,\n\u001b[0;32m     27\u001b[0m     G_train,\n\u001b[0;32m     28\u001b[0m     Z_val,\n\u001b[0;32m     29\u001b[0m     T_val,\n\u001b[0;32m     30\u001b[0m     Y_val,\n\u001b[0;32m     31\u001b[0m     G_val,\n\u001b[0;32m     32\u001b[0m     T_test,\n\u001b[0;32m     33\u001b[0m     G_test,\n\u001b[0;32m     34\u001b[0m     g_features\u001b[38;5;241m=\u001b[39mg_features,\n\u001b[0;32m     35\u001b[0m     kernel_fn\u001b[38;5;241m=\u001b[39mkernel_fn,\n\u001b[0;32m     36\u001b[0m     centers\u001b[38;5;241m=\u001b[39mcenters,\n\u001b[0;32m     37\u001b[0m     sigmas\u001b[38;5;241m=\u001b[39msigmas,\n\u001b[0;32m     38\u001b[0m     X_IMAGE\u001b[38;5;241m=\u001b[39m\u001b[38;5;28;01mFalse\u001b[39;00m,\n\u001b[0;32m     39\u001b[0m     Z_IMAGE\u001b[38;5;241m=\u001b[39m\u001b[38;5;28;01mTrue\u001b[39;00m,\n\u001b[0;32m     40\u001b[0m     n_t\u001b[38;5;241m=\u001b[39mn_t,\n\u001b[0;32m     41\u001b[0m     n_instruments\u001b[38;5;241m=\u001b[39mn_instruments,\n\u001b[0;32m     42\u001b[0m     n_hidden\u001b[38;5;241m=\u001b[39mn_hidden,\n\u001b[0;32m     43\u001b[0m     dropout_p\u001b[38;5;241m=\u001b[39mdropout_p,\n\u001b[0;32m     44\u001b[0m     learner_lr\u001b[38;5;241m=\u001b[39mlearner_lr,\n\u001b[0;32m     45\u001b[0m     adversary_lr\u001b[38;5;241m=\u001b[39madversary_lr,\n\u001b[0;32m     46\u001b[0m     learner_l2\u001b[38;5;241m=\u001b[39mlearner_l2,\n\u001b[0;32m     47\u001b[0m     adversary_l2\u001b[38;5;241m=\u001b[39madversary_l2,\n\u001b[0;32m     48\u001b[0m     adversary_norm_reg\u001b[38;5;241m=\u001b[39madversary_norm_reg,\n\u001b[0;32m     49\u001b[0m     n_epochs\u001b[38;5;241m=\u001b[39mn_epochs,\n\u001b[0;32m     50\u001b[0m     batch_size\u001b[38;5;241m=\u001b[39mbs,\n\u001b[0;32m     51\u001b[0m )\n\u001b[0;32m     53\u001b[0m plot_results(klayermmdgmm, T_test, true_of_T_test\u001b[38;5;241m=\u001b[39mG_test)\n",
      "\u001b[1;31mNameError\u001b[0m: name 'train_kernellayergmm' is not defined"
     ]
    }
   ],
   "source": [
    "dropout_p = 0.1  # for dropout\n",
    "n_t = 1  # number of treatments\n",
    "n_hidden = 200\n",
    "\n",
    "# For any method that use a projection of z into features g(z)\n",
    "g_features = 100\n",
    "n_centers = 100\n",
    "sigma = 2.0 / g_features\n",
    "# The kernel function\n",
    "kernel_fn = gaussian\n",
    "centers = np.random.uniform(-4, 4, size=(n_centers, 100))\n",
    "sigmas = np.ones((n_centers,)) * sigma\n",
    "\n",
    "# local hyperparam\n",
    "learner_lr = 1e-4\n",
    "adversary_lr = 1e-4\n",
    "learner_l2 = 1e-4\n",
    "adversary_l2 = 1e-4\n",
    "adversary_norm_reg = 1e-4\n",
    "n_epochs = 1\n",
    "bs = 100\n",
    "\n",
    "klayermmdgmm = train_kernellayergmm(\n",
    "    Z_train,\n",
    "    T_train,\n",
    "    Y_train,\n",
    "    G_train,\n",
    "    Z_val,\n",
    "    T_val,\n",
    "    Y_val,\n",
    "    G_val,\n",
    "    T_test,\n",
    "    G_test,\n",
    "    g_features=g_features,\n",
    "    kernel_fn=kernel_fn,\n",
    "    centers=centers,\n",
    "    sigmas=sigmas,\n",
    "    X_IMAGE=False,\n",
    "    Z_IMAGE=True,\n",
    "    n_t=n_t,\n",
    "    n_instruments=n_instruments,\n",
    "    n_hidden=n_hidden,\n",
    "    dropout_p=dropout_p,\n",
    "    learner_lr=learner_lr,\n",
    "    adversary_lr=adversary_lr,\n",
    "    learner_l2=learner_l2,\n",
    "    adversary_l2=adversary_l2,\n",
    "    adversary_norm_reg=adversary_norm_reg,\n",
    "    n_epochs=n_epochs,\n",
    "    batch_size=bs,\n",
    ")\n",
    "\n",
    "plot_results(klayermmdgmm, T_test, true_of_T_test=G_test)"
   ]
  },
  {
   "cell_type": "markdown",
   "metadata": {
    "tags": []
   },
   "source": [
    "## X - Image"
   ]
  },
  {
   "cell_type": "code",
   "execution_count": 15,
   "metadata": {},
   "outputs": [],
   "source": [
    "### Generate Data\n",
    "if torch.cuda.is_available():\n",
    "    torch.cuda.empty_cache()\n",
    "X_IMAGE = True\n",
    "Z_IMAGE = False\n",
    "tau_fn = \"abs\"\n",
    "n_samples = 20000\n",
    "n_instruments = 1  # need to keep this to 1 for now. some bug in the way Bennett et al generate their data.\n",
    "iv_strength = 0.5\n",
    "data = generate_data(\n",
    "    X_IMAGE=X_IMAGE,\n",
    "    Z_IMAGE=Z_IMAGE,\n",
    "    tau_fn=tau_fn,\n",
    "    n_samples=n_samples,\n",
    "    n_instruments=n_instruments,\n",
    "    iv_strength=iv_strength,\n",
    "    device=device,\n",
    ")\n",
    "(Z_train, T_train, Y_train, G_train) = data[0]\n",
    "(Z_val, T_val, Y_val, G_val) = data[1]\n",
    "(Z_test, T_test, Y_test, G_test) = data[2]"
   ]
  },
  {
   "cell_type": "markdown",
   "metadata": {
    "tags": []
   },
   "source": [
    "### Train AGMM - X image"
   ]
  },
  {
   "cell_type": "code",
   "execution_count": 16,
   "metadata": {},
   "outputs": [
    {
     "ename": "NameError",
     "evalue": "name 'train_agmm' is not defined",
     "output_type": "error",
     "traceback": [
      "\u001b[1;31m---------------------------------------------------------------------------\u001b[0m",
      "\u001b[1;31mNameError\u001b[0m                                 Traceback (most recent call last)",
      "Cell \u001b[1;32mIn [16], line 21\u001b[0m\n\u001b[0;32m     18\u001b[0m train_learner_every \u001b[38;5;241m=\u001b[39m \u001b[38;5;241m1\u001b[39m\n\u001b[0;32m     19\u001b[0m train_adversary_every \u001b[38;5;241m=\u001b[39m \u001b[38;5;241m1\u001b[39m\n\u001b[1;32m---> 21\u001b[0m agmm \u001b[38;5;241m=\u001b[39m \u001b[43mtrain_agmm\u001b[49m(\n\u001b[0;32m     22\u001b[0m     Z_train,\n\u001b[0;32m     23\u001b[0m     T_train,\n\u001b[0;32m     24\u001b[0m     Y_train,\n\u001b[0;32m     25\u001b[0m     G_train,\n\u001b[0;32m     26\u001b[0m     Z_val,\n\u001b[0;32m     27\u001b[0m     T_val,\n\u001b[0;32m     28\u001b[0m     Y_val,\n\u001b[0;32m     29\u001b[0m     G_val,\n\u001b[0;32m     30\u001b[0m     T_test,\n\u001b[0;32m     31\u001b[0m     G_test,\n\u001b[0;32m     32\u001b[0m     X_IMAGE\u001b[38;5;241m=\u001b[39mX_IMAGE,\n\u001b[0;32m     33\u001b[0m     Z_IMAGE\u001b[38;5;241m=\u001b[39mZ_IMAGE,\n\u001b[0;32m     34\u001b[0m     n_t\u001b[38;5;241m=\u001b[39mn_t,\n\u001b[0;32m     35\u001b[0m     n_instruments\u001b[38;5;241m=\u001b[39mn_instruments,\n\u001b[0;32m     36\u001b[0m     n_hidden\u001b[38;5;241m=\u001b[39mn_hidden,\n\u001b[0;32m     37\u001b[0m     dropout_p\u001b[38;5;241m=\u001b[39mdropout_p,\n\u001b[0;32m     38\u001b[0m     learner_lr\u001b[38;5;241m=\u001b[39mlearner_lr,\n\u001b[0;32m     39\u001b[0m     adversary_lr\u001b[38;5;241m=\u001b[39madversary_lr,\n\u001b[0;32m     40\u001b[0m     learner_l2\u001b[38;5;241m=\u001b[39mlearner_l2,\n\u001b[0;32m     41\u001b[0m     adversary_l2\u001b[38;5;241m=\u001b[39madversary_l2,\n\u001b[0;32m     42\u001b[0m     adversary_norm_reg\u001b[38;5;241m=\u001b[39madversary_norm_reg,\n\u001b[0;32m     43\u001b[0m     n_epochs\u001b[38;5;241m=\u001b[39mn_epochs,\n\u001b[0;32m     44\u001b[0m     batch_size\u001b[38;5;241m=\u001b[39mbs,\n\u001b[0;32m     45\u001b[0m     train_learner_every\u001b[38;5;241m=\u001b[39mtrain_learner_every,\n\u001b[0;32m     46\u001b[0m     train_adversary_every\u001b[38;5;241m=\u001b[39mtrain_adversary_every,\n\u001b[0;32m     47\u001b[0m )\n\u001b[0;32m     49\u001b[0m eval_performance(agmm, T_test, true_of_T_test\u001b[38;5;241m=\u001b[39mG_test)\n",
      "\u001b[1;31mNameError\u001b[0m: name 'train_agmm' is not defined"
     ]
    }
   ],
   "source": [
    "# Train AGMM\n",
    "#%%time\n",
    "\n",
    "# if torch.cuda.is_available():\n",
    "#  torch.cuda.empty_cache()\n",
    "p = 0.1  # for dropout\n",
    "n_t = 1  # number of treatments\n",
    "n_hidden = 200\n",
    "\n",
    "# local hyperparam\n",
    "learner_lr = 1e-5\n",
    "adversary_lr = 1e-4\n",
    "learner_l2 = 1e-4\n",
    "adversary_l2 = 1e-4\n",
    "adversary_norm_reg = 1e-4\n",
    "n_epochs = 1\n",
    "bs = 100\n",
    "train_learner_every = 1\n",
    "train_adversary_every = 1\n",
    "\n",
    "agmm = train_agmm(\n",
    "    Z_train,\n",
    "    T_train,\n",
    "    Y_train,\n",
    "    G_train,\n",
    "    Z_val,\n",
    "    T_val,\n",
    "    Y_val,\n",
    "    G_val,\n",
    "    T_test,\n",
    "    G_test,\n",
    "    X_IMAGE=X_IMAGE,\n",
    "    Z_IMAGE=Z_IMAGE,\n",
    "    n_t=n_t,\n",
    "    n_instruments=n_instruments,\n",
    "    n_hidden=n_hidden,\n",
    "    dropout_p=dropout_p,\n",
    "    learner_lr=learner_lr,\n",
    "    adversary_lr=adversary_lr,\n",
    "    learner_l2=learner_l2,\n",
    "    adversary_l2=adversary_l2,\n",
    "    adversary_norm_reg=adversary_norm_reg,\n",
    "    n_epochs=n_epochs,\n",
    "    batch_size=bs,\n",
    "    train_learner_every=train_learner_every,\n",
    "    train_adversary_every=train_adversary_every,\n",
    ")\n",
    "\n",
    "eval_performance(agmm, T_test, true_of_T_test=G_test)"
   ]
  },
  {
   "cell_type": "markdown",
   "metadata": {},
   "source": [
    "### Train Kernel GMM - X image"
   ]
  },
  {
   "cell_type": "code",
   "execution_count": null,
   "metadata": {},
   "outputs": [],
   "source": [
    "# use KernelLayerGMM for DGP 2: only X image\n",
    "\n",
    "# For any method that use a projection of z into features g(z)\n",
    "g_features = 100\n",
    "n_centers = 100\n",
    "sigma = 2.0 / g_features\n",
    "# The kernel function\n",
    "kernel_fn = gaussian\n",
    "\n",
    "centers = np.random.uniform(-4, 4, size=(n_centers, 100))\n",
    "sigmas = np.ones((n_centers,)) * sigma\n",
    "\n",
    "dropout_p = 0.1  # for dropout\n",
    "n_t = 1  # number of treatments\n",
    "n_hidden = 200\n",
    "# local hyperparam\n",
    "learner_lr = 1e-5\n",
    "adversary_lr = 1e-4\n",
    "learner_l2 = 1e-4\n",
    "adversary_l2 = 1e-4\n",
    "adversary_norm_reg = 1e-4\n",
    "n_epochs = 1\n",
    "bs = 100\n",
    "train_learner_every = 1\n",
    "train_adversary_every = 1\n",
    "\n",
    "klayermmdgmm = train_kernellayergmm(\n",
    "    Z_train,\n",
    "    T_train,\n",
    "    Y_train,\n",
    "    G_train,\n",
    "    Z_val,\n",
    "    T_val,\n",
    "    Y_val,\n",
    "    G_val,\n",
    "    T_test,\n",
    "    G_test,\n",
    "    g_features=g_features,\n",
    "    kernel_fn=kernel_fn,\n",
    "    centers=centers,\n",
    "    sigmas=sigmas,\n",
    "    X_IMAGE=X_IMAGE,\n",
    "    Z_IMAGE=Z_IMAGE,\n",
    "    n_t=n_t,\n",
    "    n_instruments=n_instruments,\n",
    "    n_hidden=n_hidden,\n",
    "    dropout_p=dropout_p,\n",
    "    learner_lr=learner_lr,\n",
    "    adversary_lr=adversary_lr,\n",
    "    learner_l2=learner_l2,\n",
    "    adversary_l2=adversary_l2,\n",
    "    adversary_norm_reg=adversary_norm_reg,\n",
    "    n_epochs=n_epochs,\n",
    "    batch_size=bs,\n",
    "    train_learner_every=train_learner_every,\n",
    "    train_adversary_every=train_adversary_every,\n",
    ")\n",
    "\n",
    "eval_performance(klayermmdgmm, T_test, true_of_T_test=G_test)"
   ]
  },
  {
   "cell_type": "markdown",
   "metadata": {},
   "source": [
    "## X and Z - Images"
   ]
  },
  {
   "cell_type": "code",
   "execution_count": 18,
   "metadata": {},
   "outputs": [],
   "source": [
    "### Generate Data\n",
    "if torch.cuda.is_available():\n",
    "    torch.cuda.empty_cache()\n",
    "X_IMAGE = True\n",
    "Z_IMAGE = True\n",
    "tau_fn = \"abs\"\n",
    "n_samples = 20000\n",
    "n_instruments = 2\n",
    "iv_strength = 0.5\n",
    "data = generate_data(\n",
    "    X_IMAGE=X_IMAGE,\n",
    "    Z_IMAGE=Z_IMAGE,\n",
    "    tau_fn=tau_fn,\n",
    "    n_samples=n_samples,\n",
    "    n_instruments=n_instruments,\n",
    "    iv_strength=iv_strength,\n",
    "    device=device,\n",
    ")\n",
    "(Z_train, T_train, Y_train, G_train) = data[0]\n",
    "(Z_val, T_val, Y_val, G_val) = data[1]\n",
    "(Z_test, T_test, Y_test, G_test) = data[2]"
   ]
  },
  {
   "cell_type": "markdown",
   "metadata": {},
   "source": [
    "### Train AGMM - X and Z images"
   ]
  },
  {
   "cell_type": "code",
   "execution_count": 19,
   "metadata": {},
   "outputs": [
    {
     "data": {
      "text/plain": [
       "tensor([-0.1527, -0.7361, -0.1527,  ..., -0.1527, -0.1527,  0.4308])"
      ]
     },
     "execution_count": 19,
     "metadata": {},
     "output_type": "execute_result"
    }
   ],
   "source": [
    "torch.cuda.empty_cache()\n",
    "label = G_train.squeeze()\n",
    "label"
   ]
  },
  {
   "cell_type": "code",
   "execution_count": 20,
   "metadata": {},
   "outputs": [
    {
     "name": "stdout",
     "output_type": "stream",
     "text": [
      "---Hyperparameters---\n",
      "Learner Learning Rate: 0.0001\n",
      "Adversary learning rate: 0.0001\n",
      "Learner_l2: 0.0001\n",
      "Adversary_l2: 0.0001\n",
      "Number of epochs: 100\n",
      "Batch Size: 5000\n",
      "R2avg -0.017229437828063965\n",
      "R2fin -0.023673295974731445\n",
      "MSEavg 0.18663625\n",
      "MSEfin 0.18781854\n"
     ]
    },
    {
     "data": {
      "text/plain": [
       "(-0.017229437828063965, -0.023673295974731445, 0.18663625, 0.18781854)"
      ]
     },
     "execution_count": 20,
     "metadata": {},
     "output_type": "execute_result"
    }
   ],
   "source": [
    "#%%time\n",
    "dropout_p = 0.1  # for dropout\n",
    "n_t = 1  # number of treatments\n",
    "n_hidden = 200\n",
    "\n",
    "# local hyperparam\n",
    "learner_lr = 1e-4\n",
    "adversary_lr = 1e-4\n",
    "learner_l2 = 1e-4\n",
    "adversary_l2 = 1e-4\n",
    "adversary_norm_reg = 1e-4\n",
    "n_epochs = 100\n",
    "bs = 5000\n",
    "\n",
    "\n",
    "agmm = train_agmm(\n",
    "    Z_train,\n",
    "    T_train,\n",
    "    Y_train,\n",
    "    G_train,\n",
    "    Z_val,\n",
    "    T_val,\n",
    "    Y_val,\n",
    "    G_val,\n",
    "    T_test,\n",
    "    G_test,\n",
    "    X_IMAGE=X_IMAGE,\n",
    "    Z_IMAGE=Z_IMAGE,\n",
    "    n_t=n_t,\n",
    "    n_instruments=n_instruments,\n",
    "    n_hidden=n_hidden,\n",
    "    dropout_p=dropout_p,\n",
    "    learner_lr=learner_lr,\n",
    "    adversary_lr=adversary_lr,\n",
    "    learner_l2=learner_l2,\n",
    "    adversary_l2=adversary_l2,\n",
    "    adversary_norm_reg=adversary_norm_reg,\n",
    "    n_epochs=100,\n",
    "    batch_size=bs,\n",
    "    train_learner_every=1,\n",
    "    train_adversary_every=1\n",
    ")\n",
    "\n",
    "eval_performance(agmm, T_test, true_of_T_test=G_test)"
   ]
  },
  {
   "cell_type": "code",
   "execution_count": 21,
   "metadata": {},
   "outputs": [
    {
     "data": {
      "text/plain": [
       "tensor(-0.7599, device='cuda:0')"
      ]
     },
     "execution_count": 21,
     "metadata": {},
     "output_type": "execute_result"
    }
   ],
   "source": [
    "torch.min(G_test)"
   ]
  },
  {
   "cell_type": "code",
   "execution_count": null,
   "metadata": {},
   "outputs": [],
   "source": [
    "#MSELOSS training"
   ]
  },
  {
   "cell_type": "code",
   "execution_count": 14,
   "metadata": {},
   "outputs": [],
   "source": [
    "import torch.nn as nn\n",
    "class DeepSet(nn.Module):\n",
    "    def __init__(self, x_d, pool=\"max\"):\n",
    "        super().__init__()\n",
    "        self.enc = nn.Sequential(\n",
    "            nn.Linear(in_features=x_d, out_features=64),\n",
    "            nn.ReLU(),\n",
    "            nn.Linear(in_features=64, out_features=64),\n",
    "            nn.ReLU(),\n",
    "            nn.Linear(in_features=64, out_features=64),\n",
    "            nn.ReLU(),\n",
    "            nn.Linear(in_features=64, out_features=64),\n",
    "        )\n",
    "        self.dec = nn.Sequential(\n",
    "            nn.Linear(in_features=64, out_features=64),\n",
    "            nn.ReLU(),\n",
    "            nn.Linear(in_features=64, out_features=1),\n",
    "        )\n",
    "        self.pool = pool\n",
    "\n",
    "    def forward(self, x):\n",
    "        x = self.enc(x)\n",
    "        x = x.sum(dim=1)\n",
    "        x = self.dec(x)\n",
    "        return x\n",
    "\n",
    "def train(model, x, label):\n",
    "    model = model.cuda()\n",
    "    optimizer = torch.optim.Adam(model.parameters(), lr=1e-4)\n",
    "    criterion = nn.MSELoss().cuda()\n",
    "    losses = []\n",
    "    for _ in range(10000):\n",
    "        loss = criterion(model(x).squeeze(), label)\n",
    "        optimizer.zero_grad()\n",
    "        loss.backward()\n",
    "        optimizer.step()\n",
    "        losses.append(loss.item())\n",
    "    return losses\n",
    "        "
   ]
  },
  {
   "cell_type": "code",
   "execution_count": 15,
   "metadata": {},
   "outputs": [
    {
     "data": {
      "text/plain": [
       "torch.Size([18000, 1, 28, 28])"
      ]
     },
     "execution_count": 15,
     "metadata": {},
     "output_type": "execute_result"
    }
   ],
   "source": [
    "T_train.shape"
   ]
  },
  {
   "cell_type": "code",
   "execution_count": 16,
   "metadata": {},
   "outputs": [],
   "source": [
    "model = DeepSet(x_d = len(T_train[0][0][0]))\n",
    "g_loss = train(model, T_train.cuda(), G_train.cuda())"
   ]
  },
  {
   "cell_type": "code",
   "execution_count": 17,
   "metadata": {},
   "outputs": [
    {
     "data": {
      "text/plain": [
       "0.8363448977470398"
      ]
     },
     "execution_count": 17,
     "metadata": {},
     "output_type": "execute_result"
    }
   ],
   "source": [
    "g_loss[-1]"
   ]
  },
  {
   "cell_type": "code",
   "execution_count": null,
   "metadata": {},
   "outputs": [],
   "source": [
    "\n"
   ]
  },
  {
   "cell_type": "markdown",
   "metadata": {
    "jp-MarkdownHeadingCollapsed": true,
    "tags": []
   },
   "source": [
    "### Train Kernel GMM - X and Z images"
   ]
  },
  {
   "cell_type": "code",
   "execution_count": null,
   "metadata": {},
   "outputs": [],
   "source": [
    "#%%time\n",
    "# For any method that use a projection of z into features g(z)\n",
    "g_features = 100\n",
    "n_centers = 100\n",
    "sigma = 2.0 / g_features\n",
    "# The kernel function\n",
    "kernel_fn = gaussian\n",
    "\n",
    "centers = np.random.uniform(-4, 4, size=(n_centers, 100))\n",
    "sigmas = np.ones((n_centers,)) * sigma\n",
    "\n",
    "dropout_p = 0.1 # for dropout\n",
    "n_t = 1 # number of treatments\n",
    "n_hidden = 200\n",
    "\n",
    "# training hyperparameters\n",
    "learner_lr = 1e-5\n",
    "adversary_lr = 1e-4\n",
    "learner_l2 = 1e-4\n",
    "adversary_l2 = 1e-4\n",
    "adversary_norm_reg = 1e-4\n",
    "n_epochs = 1\n",
    "bs = 100\n",
    "train_learner_every = 1\n",
    "train_adversary_every = 1\n",
    "\n",
    "\n",
    "klayermmdgmm = train_kernellayergmm(Z_train, T_train, Y_train, G_train,\n",
    "                                    Z_val, T_val, Y_val, G_val, T_test, G_test,\n",
    "                                    g_features=g_features, kernel_fn=kernel_fn,\n",
    "                                    centers=centers, sigmas=sigmas,\n",
    "                                    X_IMAGE=X_IMAGE, Z_IMAGE=Z_IMAGE, n_t=n_t,\n",
    "                                    n_instruments=n_instruments,\n",
    "                                    n_hidden=n_hidden, dropout_p=dropout_p, \n",
    "                                    learner_lr=learner_lr, adversary_lr=adversary_lr,\n",
    "                                    learner_l2=learner_l2, adversary_l2=adversary_l2,\n",
    "                                    adversary_norm_reg=adversary_norm_reg,\n",
    "                                    n_epochs=n_epochs, batch_size=bs,\n",
    "                                    train_learner_every=train_learner_every,\n",
    "                                    train_adversary_every=train_adversary_every)\n",
    "\n",
    "eval_performance(klayermmdgmm,T_test, true_of_T_test=G_test)"
   ]
  },
  {
   "cell_type": "markdown",
   "metadata": {
    "jp-MarkdownHeadingCollapsed": true,
    "tags": []
   },
   "source": [
    "## Multiple Experiments at Once"
   ]
  },
  {
   "cell_type": "code",
   "execution_count": null,
   "metadata": {},
   "outputs": [],
   "source": [
    "def dgp_to_bools(dgp_str):\n",
    "    x = False\n",
    "    z = False\n",
    "    if dgp_str=='mnist_x':\n",
    "        x = True\n",
    "    elif dgp_str== 'mnist_z':\n",
    "        z = True\n",
    "    elif dgp_str=='mnist_xz':\n",
    "        x = True\n",
    "        z = True\n",
    "    return x,z\n",
    "\n",
    "def experiment(dgp,iv_strength,tau_fn,num_data,est):\n",
    "    if torch.cuda.is_available():\n",
    "        torch.cuda.empty_cache()\n",
    "    print(\"Experiment\")\n",
    "    print(dgp,est,iv_strength,tau_fn)\n",
    "\n",
    "    # Fixed hyper-parameters - can vary these too\n",
    "    # params for kernelgmm\n",
    "    g_features = 100\n",
    "    kernel_fn = gaussian\n",
    "    centers = np.random.uniform(-4, 4, size=(n_centers, 100))\n",
    "    sigmas = np.ones((n_centers,)) * sigma\n",
    "\n",
    "    # arch params\n",
    "    dropout_p = 0.1 # for dropout\n",
    "    n_t = 1 # number of treatments\n",
    "    n_hidden = 200\n",
    "\n",
    "    # training params\n",
    "    learner_lr = 1e-5\n",
    "    adversary_lr = 1e-4\n",
    "    learner_l2 = 1e-4\n",
    "    adversary_l2 = 1e-4\n",
    "    adversary_norm_reg = 1e-4\n",
    "    n_epochs = 1\n",
    "    bs = 100\n",
    "    train_learner_every = 1\n",
    "    train_adversary_every = 1\n",
    "\n",
    "    # generate data\n",
    "    X_IMAGE,Z_IMAGE = dgp_to_bools(dgp)\n",
    "    n_instruments = 1\n",
    "    data = generate_data(X_IMAGE=X_IMAGE, Z_IMAGE=Z_IMAGE, tau_fn=tau_fn, n_samples=num_data,\n",
    "                    n_instruments=n_instruments, iv_strength=iv_strength, device=device)\n",
    "    (Z_train, T_train, Y_train, G_train) = data[0]\n",
    "    (Z_val, T_val, Y_val, G_val) = data[1]\n",
    "    (Z_test, T_test, Y_test, G_test) = data[2]\n",
    "\n",
    "    if est=='AGMM':\n",
    "        estimator = train_agmm(Z_train, T_train, Y_train, G_train,\n",
    "                               Z_val, T_val, Y_val, G_val, T_test, G_test,\n",
    "                               X_IMAGE=X_IMAGE, Z_IMAGE=Z_IMAGE, n_t=n_t,\n",
    "                               n_instruments=n_instruments,\n",
    "                               n_hidden=n_hidden, dropout_p=dropout_p,\n",
    "                               learner_lr=learner_lr, adversary_lr=adversary_lr,\n",
    "                               learner_l2=learner_l2, adversary_l2=adversary_l2,\n",
    "                               adversary_norm_reg=adversary_norm_reg, n_epochs=n_epochs,\n",
    "                               batch_size=bs,\n",
    "                               train_learner_every=train_learner_every,\n",
    "                               train_adversary_every=train_adversary_every)\n",
    "\n",
    "    elif est=='KernelLayerMMDGMM':\n",
    "        estimator = train_kernellayergmm(Z_train, T_train, Y_train, G_train,\n",
    "                                         Z_val, T_val, Y_val, G_val, T_test, G_test,\n",
    "                                         g_features=g_features, kernel_fn=kernel_fn,\n",
    "                                         centers=centers, sigmas=sigmas,\n",
    "                                         X_IMAGE=X_IMAGE, Z_IMAGE=Z_IMAGE, n_t=n_t,\n",
    "                                         n_instruments=n_instruments,\n",
    "                                         n_hidden=n_hidden, dropout_p=dropout_p,\n",
    "                                         learner_lr=learner_lr, adversary_lr=adversary_lr,\n",
    "                                         learner_l2=learner_l2, adversary_l2=adversary_l2,\n",
    "                                         adversary_norm_reg=adversary_norm_reg,\n",
    "                                         n_epochs=n_epochs, batch_size=bs,\n",
    "                                         train_learner_every=train_learner_every,\n",
    "                                         train_adversary_every=train_adversary_every)\n",
    "\n",
    "    results = eval_performance(estimator, T_test, true_of_T_test=G_test)\n",
    "    return results\n"
   ]
  },
  {
   "cell_type": "code",
   "execution_count": null,
   "metadata": {},
   "outputs": [],
   "source": [
    "# Monte-Carlo Loop\n",
    "# 1. loop over functions\n",
    "# 2. loop over instrument strengths\n",
    "# 3. loop over estimators\n",
    "# 4. loop over dgps\n",
    "\n",
    "tau_fns = [\"abs\", \"sin\", \"2dpoly\", \"rand_pw\", \"3dpoly\"]\n",
    "iv_strength = [0.2, 0.5, 0.8]\n",
    "estimators = [\"AGMM\", \"KernelLayerMMDGMM\"]\n",
    "dgps = [\"z_image\", \"x_image\", \"xz_image\"]\n",
    "num_datas = [1000]\n",
    "\n",
    "\n",
    "hyperparams = list(itertools.product(tau_fns, iv_strength, dgps, num_datas, estimators))\n",
    "result_dict = {}\n",
    "\n",
    "for (tau_fn, iv_strength, dgp, num_data, est) in hyperparams:\n",
    "    results = experiment(dgp, iv_strength, tau_fn, num_data, est)\n",
    "    result_dict[(tau_fn, iv_strength, dgp, num_data, est)] = results"
   ]
  },
  {
   "cell_type": "code",
   "execution_count": null,
   "metadata": {},
   "outputs": [],
   "source": []
  }
 ],
 "metadata": {
  "accelerator": "GPU",
  "colab": {
   "collapsed_sections": [],
   "name": "MNIST_Experiments.ipynb",
   "provenance": [],
   "toc_visible": true
  },
  "kernelspec": {
   "display_name": "Python 3 (ipykernel)",
   "language": "python",
   "name": "python3"
  },
  "language_info": {
   "codemirror_mode": {
    "name": "ipython",
    "version": 3
   },
   "file_extension": ".py",
   "mimetype": "text/x-python",
   "name": "python",
   "nbconvert_exporter": "python",
   "pygments_lexer": "ipython3",
   "version": "3.8.8"
  },
  "vscode": {
   "interpreter": {
    "hash": "31f2aee4e71d21fbe5cf8b01ff0e069b9275f58929596ceb00d14d90e3e16cd6"
   }
  }
 },
 "nbformat": 4,
 "nbformat_minor": 4
}
