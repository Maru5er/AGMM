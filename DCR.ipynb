{
 "cells": [
  {
   "cell_type": "code",
   "execution_count": 1,
   "id": "dfd53a00-0340-40a5-8236-489e5af05a37",
   "metadata": {},
   "outputs": [
    {
     "name": "stdout",
     "output_type": "stream",
     "text": [
      "Cloning into 'AdversarialGMM'...\n",
      "remote: Enumerating objects: 178, done.\u001b[K\n",
      "remote: Counting objects: 100% (178/178), done.\u001b[K\n",
      "remote: Compressing objects: 100% (138/138), done.\u001b[K\n",
      "remote: Total 178 (delta 42), reused 152 (delta 32), pack-reused 0\u001b[K\n",
      "Receiving objects: 100% (178/178), 4.93 MiB | 9.96 MiB/s, done.\n",
      "Resolving deltas: 100% (42/42), done.\n"
     ]
    }
   ],
   "source": [
    "!git clone https://github.com/microsoft/AdversarialGMM.git"
   ]
  },
  {
   "cell_type": "code",
   "execution_count": 1,
   "id": "9c939876-c7ba-4717-8f40-d7f2c015dd99",
   "metadata": {},
   "outputs": [],
   "source": [
    "### Magic functinos\n",
    "%load_ext autoreload\n",
    "%autoreload 2\n",
    "%load_ext tensorboard\n",
    "%matplotlib inline"
   ]
  },
  {
   "cell_type": "code",
   "execution_count": null,
   "id": "dd9bafe3-241b-41fe-8d68-b3ca91d86789",
   "metadata": {},
   "outputs": [],
   "source": []
  },
  {
   "cell_type": "code",
   "execution_count": 2,
   "id": "aa668957-0c3a-4923-b685-fcce0a16e88f",
   "metadata": {},
   "outputs": [],
   "source": [
    "import warnings\n",
    "warnings.simplefilter('ignore')\n",
    "import itertools\n",
    "import numpy as np\n",
    "import matplotlib.pyplot as plt \n",
    "import torch\n",
    "import torch.nn as nn\n",
    "from sklearn.model_selection import train_test_split\n",
    "from mliv.dgps import get_data, get_tau_fn, fn_dict\n",
    "from mliv.neuralnet.utilities import log_metrics, plot_results\n",
    "from mliv.neuralnet.rbflayer import gaussian, inverse_multiquadric\n",
    "from mliv.neuralnet import AReisz\n",
    "from mliv.neuralnet import AGMM, KernelLayerMMDGMM, CentroidMMDGMM, KernelLossAGMM, MMDGMM"
   ]
  },
  {
   "cell_type": "code",
   "execution_count": 3,
   "id": "40cd57d9-02c3-4845-98c8-f907289fee9b",
   "metadata": {
    "scrolled": true,
    "tags": []
   },
   "outputs": [],
   "source": [
    "n = 100000\n",
    "n_z = 3\n",
    "n_t = 3\n",
    "iv_strength = .6\n",
    "fname = 'abs'\n",
    "dgp_num = 5\n",
    "Z, T, Y, true_fn, ystd, ym = get_data(n, n_z, iv_strength, get_tau_fn(fn_dict[fname]), dgp_num)"
   ]
  },
  {
   "cell_type": "code",
   "execution_count": 4,
   "id": "ad3613e6-4a31-4972-a0ad-592258b394c6",
   "metadata": {},
   "outputs": [],
   "source": [
    "ind = 0\n",
    "x_grid = np.linspace(np.quantile(T[:, ind], .01), np.quantile(T[:, ind], .99), 100)\n",
    "T_test = np.zeros((100, T.shape[1])) + np.median(T, axis=0, keepdims=True)\n",
    "T_test[:, 0] = x_grid\n"
   ]
  },
  {
   "cell_type": "code",
   "execution_count": 5,
   "id": "f7ddc464-1f63-4536-adb1-c9270a9527d2",
   "metadata": {
    "scrolled": true,
    "tags": []
   },
   "outputs": [
    {
     "data": {
      "image/png": "[encoded data removed]",
      "text/plain": [
       "<Figure size 720x216 with 2 Axes>"
      ]
     },
     "metadata": {
      "needs_background": "light"
     },
     "output_type": "display_data"
    }
   ],
   "source": [
    "plt.figure(figsize=(10,3))\n",
    "plt.subplot(1, 2, 1)\n",
    "plt.scatter(Z[:, 0], Y)\n",
    "plt.subplot(1, 2, 2)\n",
    "plt.scatter(T[:, 0], Y)\n",
    "plt.plot(T[np.argsort(T[:, 0]), 0], true_fn((T[np.argsort(T[:, 0])])))\n",
    "plt.show()"
   ]
  },
  {
   "cell_type": "code",
   "execution_count": 6,
   "id": "45876c03-59d8-4cc7-9fe7-2181fe6f4bb2",
   "metadata": {},
   "outputs": [],
   "source": [
    "p = 0.1 # dropout prob of dropout layers throughout notebook\n",
    "n_hidden = 100 # width of hidden layers throughout notebook\n",
    "\n",
    "learner = nn.Sequential(nn.Dropout(p=p), nn.Linear(n_t, n_hidden), nn.LeakyReLU(),\n",
    "                        nn.Dropout(p=p), nn.Linear(n_hidden, n_hidden), nn.ReLU(),\n",
    "                        nn.Dropout(p=p), nn.Linear(n_hidden, 1))"
   ]
  },
  {
   "cell_type": "code",
   "execution_count": 7,
   "id": "ab8d091e-c605-4f36-bedd-461885e29350",
   "metadata": {},
   "outputs": [],
   "source": [
    "# For any method that use a projection of z into features g(z)\n",
    "g_features = 100\n",
    "adversary_g = nn.Sequential(nn.Dropout(p=p), nn.Linear(n_z, n_hidden), nn.LeakyReLU(),\n",
    "                            nn.Dropout(p=p), nn.Linear(n_hidden, g_features), nn.ReLU())\n",
    "# The kernel function\n",
    "kernel_fn = gaussian\n",
    "# kernel_fn = inverse_multiquadric\n",
    "\n",
    "# For any method that uses an unstructured adversary test function f(z)\n",
    "adversary_fn = nn.Sequential(nn.Dropout(p=p), nn.Linear(n_z, n_hidden), nn.LeakyReLU(),\n",
    "                             #nn.Dropout(p=p), nn.Linear(n_hidden, n_hidden), nn.ReLU(),\n",
    "                             nn.Dropout(p=p), nn.Linear(n_hidden, 1))"
   ]
  },
  {
   "cell_type": "code",
   "execution_count": 8,
   "id": "e7b81e97-c08f-4644-a4d5-0a46b290f359",
   "metadata": {},
   "outputs": [],
   "source": [
    "learner_lr = 1e-4\n",
    "adversary_lr = 1e-4\n",
    "learner_l2 = 1e-3\n",
    "adversary_l2 = 1e-4\n",
    "adversary_norm_reg = 1e-3\n",
    "n_epochs = 300\n",
    "bs = 100\n",
    "sigma = 2.0/g_features\n",
    "n_centers = 100\n",
    "device = torch.cuda.current_device() if torch.cuda.is_available() else None"
   ]
  },
  {
   "cell_type": "code",
   "execution_count": 9,
   "id": "307b6250-a172-469d-bbbc-2ad552afdbcc",
   "metadata": {},
   "outputs": [],
   "source": [
    "if torch.cuda.is_available():\n",
    "    torch.cuda.empty_cache()\n",
    "Z_train, Z_val, T_train, T_val, Y_train, Y_val = train_test_split(Z, T, Y, test_size=.1, shuffle=True)\n",
    "Z_train, T_train, Y_train = map(lambda x: torch.Tensor(x), (Z_train, T_train, Y_train))\n",
    "Z_val, T_val, Y_val = map(lambda x: torch.Tensor(x).to(device), (Z_val, T_val, Y_val))\n",
    "G_train = true_fn(T_train)\n",
    "G_val = true_fn(T_val.cpu())\n",
    "G_train, G_val = map(lambda x: x.to(device), (G_train,G_val))\n",
    "T_test_tens = torch.Tensor(T_test).to(device)\n",
    "G_test_tens = true_fn(T_test_tens.cpu()).to(device)"
   ]
  },
  {
   "cell_type": "code",
   "execution_count": 10,
   "id": "ca44eef9-c807-4a42-bf46-265ba3868aac",
   "metadata": {},
   "outputs": [
    {
     "name": "stdout",
     "output_type": "stream",
     "text": [
      "tensor(0.2706)\n"
     ]
    }
   ],
   "source": [
    "T_0 = T_train.clone()\n",
    "T_1 = T_train.clone()\n",
    "T_1[:,0] =   1 + ( T_1[:,0])\n",
    "point_before = true_fn(T_0).flatten()\n",
    "point_after =  true_fn(T_1).flatten()\n",
    "true = torch.mean(point_after - point_before)*ystd\n",
    "print(true)"
   ]
  },
  {
   "cell_type": "code",
   "execution_count": 11,
   "id": "a5ec09ad-9921-4b91-901a-85559c53b198",
   "metadata": {},
   "outputs": [],
   "source": [
    "def estimateGMM(Z, T, Y, n_epochs=1000):\n",
    "    \n",
    "    agmm = AGMM(learner, adversary_fn).fit(Z, T, Y, learner_lr=learner_lr, adversary_lr=adversary_lr,\n",
    "                                       learner_l2=learner_l2, adversary_l2=adversary_l2,\n",
    "                                       n_epochs=n_epochs, bs=bs, logger=None,\n",
    "                                       model_dir='agmm_model', device=device)\n",
    "\n",
    "    return agmm"
   ]
  },
  {
   "cell_type": "code",
   "execution_count": null,
   "id": "3125e628-77d2-4227-bbe2-9eb3743170cd",
   "metadata": {},
   "outputs": [],
   "source": []
  },
  {
   "cell_type": "code",
   "execution_count": 12,
   "id": "4729d31e-8209-478c-94e0-260a4188f123",
   "metadata": {},
   "outputs": [],
   "source": [
    "\n",
    "def moment_func_agmm(learner, xb):\n",
    "    xb_1 = xb.clone()\n",
    "    xb_1[:,0] =   1 + xb[:,0]\n",
    "    point_0 = learner.predict(xb.to(device), model='final')\n",
    "    point_1 = learner.predict(xb_1.to(device), model='final')\n",
    "    return point_1 - point_0"
   ]
  },
  {
   "cell_type": "code",
   "execution_count": 13,
   "id": "8606043e-35c7-4329-afe0-152a087ff283",
   "metadata": {},
   "outputs": [],
   "source": [
    "def estimateReisz(Z, T, Y, moment_func, n_epochs=1000):\n",
    "    p = 0.1 # dropout prob of dropout layers throughout notebook\n",
    "    n_hidden = 100 # width of hidden layers throughout notebook\n",
    "\n",
    "    learner_reisz = nn.Sequential(nn.Dropout(p=p), nn.Linear(n_t, n_hidden), nn.LeakyReLU(),\n",
    "                        #nn.Dropout(p=p), nn.Linear(n_hidden, n_hidden), nn.ReLU(),\n",
    "                        nn.Dropout(p=p), nn.Linear(n_hidden, 1))\n",
    "\n",
    "\n",
    "    # For any method that uses an unstructured adversary test function f(z)\n",
    "    adversary_fn_reisz = nn.Sequential(nn.Dropout(p=p), nn.Linear(n_z, n_hidden), nn.LeakyReLU(),\n",
    "                             #nn.Dropout(p=p), nn.Linear(n_hidden, n_hidden), nn.ReLU(),\n",
    "                             nn.Dropout(p=p), nn.Linear(n_hidden, 1))\n",
    "    \n",
    "    areisz = AReisz(learner_reisz, adversary_fn_reisz).fit(Z, T, Y, moment_func = moment_func, \n",
    "                                                       learner_lr=learner_lr, adversary_lr=adversary_lr,\n",
    "                                       learner_l2=learner_l2, adversary_l2=adversary_l2,\n",
    "                                       n_epochs=n_epochs, bs=bs, logger=None,\n",
    "                                       model_dir='areisz_model', device=device)\n",
    "    return areisz"
   ]
  },
  {
   "cell_type": "code",
   "execution_count": null,
   "id": "964551fe-2145-4204-8218-d5e22c4c5df6",
   "metadata": {},
   "outputs": [],
   "source": [
    "def logger(learner, adversary, epoch, writer):\n",
    "    writer.add_histogram('learner', learner[-1].weight, epoch)\n",
    "    writer.add_histogram('adversary', adversary[-1].weight, epoch)\n",
    "    log_metrics(Z_val, T_val, Y_val, Z_val, T_val, Y_val, T_test_tens,\n",
    "                learner, adversary, epoch, writer, true_of_T=G_val)\n",
    "\n",
    "np.random.seed(12356)\n",
    "#agmm = AGMM(learner, adversary_fn).fit(Z_train, T_train, Y_train, learner_lr=learner_lr, adversary_lr=adversary_lr,\n",
    "#                                       learner_l2=learner_l2, adversary_l2=adversary_l2,\n",
    "#                                    n_epochs=1000, bs=bs, logger=None,\n",
    "#                                       model_dir='agmm_model', device=device)\n",
    "agmm = estimateGMM(Z_train, T_train, Y_train)\n"
   ]
  },
  {
   "cell_type": "code",
   "execution_count": 46,
   "id": "f9903ee9-2010-4a0c-b4c4-37e39f182d7c",
   "metadata": {},
   "outputs": [
    {
     "name": "stdout",
     "output_type": "stream",
     "text": [
      "None\n"
     ]
    },
    {
     "data": {
      "image/png": "[encoded data removed]",
      "text/plain": [
       "<Figure size 1080x360 with 2 Axes>"
      ]
     },
     "metadata": {
      "needs_background": "light"
     },
     "output_type": "display_data"
    },
    {
     "name": "stdout",
     "output_type": "stream",
     "text": [
      "MSEavg 0.012052801\n",
      "MSEfin 0.014443405\n"
     ]
    },
    {
     "data": {
      "image/png": "[encoded data removed]",
      "text/plain": [
       "<Figure size 1080x360 with 4 Axes>"
      ]
     },
     "metadata": {
      "needs_background": "light"
     },
     "output_type": "display_data"
    }
   ],
   "source": [
    "plot_results(agmm, T_test_tens, G_test_tens, ind=0)"
   ]
  },
  {
   "cell_type": "code",
   "execution_count": 14,
   "id": "f81df012-4103-4f21-b0dc-f01cb1d836bd",
   "metadata": {},
   "outputs": [],
   "source": [
    "def compute_theta_V(Z, T, Y, agmm, areisz, ystd, moment_func_agmm):\n",
    "    theta = torch.mean(np.multiply(areisz.predict(Z.to(device), model='final').flatten(), \n",
    "                           (Y.cpu()-agmm.predict(T.to(device) , model='final') ).flatten())*ystd  + moment_func_agmm(agmm, T).flatten()*ystd)\n",
    "    psi = (np.multiply(areisz.predict(Z.to(device), model='final').flatten(), \n",
    "                           (Y.cpu()-agmm.predict(T.to(device), model='final')).flatten())*ystd  + moment_func_agmm(agmm, T).flatten()*ystd - theta)**2\n",
    "    V = torch.mean(psi)\n",
    "    return theta, V\n"
   ]
  },
  {
   "cell_type": "code",
   "execution_count": 15,
   "id": "5da19ae7-1fb3-4e82-82e6-6d62cbac17a2",
   "metadata": {},
   "outputs": [],
   "source": [
    "def runCrossFitDCR(n=1000, fname='abs'):\n",
    "    n_z = 3\n",
    "    n_t = 3\n",
    "    iv_strength = .6\n",
    "    dgp_num = 5\n",
    "    Z_1, T_1, Y_1, true_fn, ystd_1, ym_1 = get_data(n, n_z, iv_strength, get_tau_fn(fn_dict[fname]), dgp_num)\n",
    "    Z_2, T_2, Y_2, true_fn, ystd_2, ym_2 = get_data(n, n_z, iv_strength, get_tau_fn(fn_dict[fname]), dgp_num)\n",
    "\n",
    "    if torch.cuda.is_available():\n",
    "        torch.cuda.empty_cache()\n",
    "    Z_1, Z_2, T_1, T_2, Y_1, Y_2 = map(lambda x: torch.Tensor(x), (Z_1, Z_2, T_1, T_2, Y_1, Y_2))\n",
    "    def moment_func(adversary, xb):\n",
    "        xb_1 = xb.clone()\n",
    "        xb_1[:,0] =   1 + xb[:,0]\n",
    "        point_0 = adversary(xb)\n",
    "        point_1 = adversary(xb_1)\n",
    "        return point_1 - point_0\n",
    "    def moment_func_agmm(learner, xb):\n",
    "        xb_1 = xb.clone()\n",
    "        xb_1[:,0] =   1 + xb[:,0]\n",
    "        point_0 = learner.predict(xb.to(device), model='final')\n",
    "        point_1 = learner.predict(xb_1.to(device), model='final')\n",
    "        return point_1 - point_0\n",
    "    \n",
    "    agmm_1    = estimateGMM(Z_1, T_1, Y_1)\n",
    "    areisz_1  = estimateReisz(Z_1, T_1, Y_1, moment_func = moment_func)\n",
    "    theta_1, V_1   = compute_theta_V(Z_2, T_2, Y_2, agmm_1, areisz_1, ystd_1, moment_func_agmm=moment_func_agmm) \n",
    "    agmm_2    = estimateGMM(Z_2, T_2, Y_2)\n",
    "    areisz_2  = estimateReisz(Z_2, T_2, Y_2, moment_func = moment_func)\n",
    "    theta_2, V_2   = compute_theta_V(Z_1, T_1, Y_1, agmm_2, areisz_2, ystd_2, moment_func_agmm=moment_func_agmm)\n",
    "    theta = (theta_1+theta_2)/2\n",
    "    V     = (V_1 + V_2)/2\n",
    "    return theta, V\n",
    "    "
   ]
  },
  {
   "cell_type": "code",
   "execution_count": 16,
   "id": "04524013-f3af-4119-a83c-007fe2b0dc0d",
   "metadata": {},
   "outputs": [
    {
     "name": "stdout",
     "output_type": "stream",
     "text": [
      "tensor(0.2706)\n",
      "tensor(0.3774)\n",
      "1\n",
      "tensor(0.3240)\n",
      "2\n",
      "tensor(0.3350)\n",
      "3\n",
      "tensor(0.3037)\n",
      "4\n",
      "tensor(0.1940)\n",
      "5\n",
      "tensor(0.3190)\n",
      "6\n"
     ]
    },
    {
     "ename": "KeyboardInterrupt",
     "evalue": "",
     "output_type": "error",
     "traceback": [
      "\u001b[0;31m---------------------------------------------------------------------------\u001b[0m",
      "\u001b[0;31mKeyboardInterrupt\u001b[0m                         Traceback (most recent call last)",
      "\u001b[1;32m/home/aman/Dropbox (Penn)/DCR/notebooks/AdversarialGMM/DCR.ipynb Cell 21\u001b[0m in \u001b[0;36m<cell line: 4>\u001b[0;34m()\u001b[0m\n\u001b[1;32m      <a href='vscode-notebook-cell:/home/aman/Dropbox%20%28Penn%29/DCR/notebooks/AdversarialGMM/DCR.ipynb#X26sZmlsZQ%3D%3D?line=2'>3</a>\u001b[0m \u001b[39mprint\u001b[39m(true)\n\u001b[1;32m      <a href='vscode-notebook-cell:/home/aman/Dropbox%20%28Penn%29/DCR/notebooks/AdversarialGMM/DCR.ipynb#X26sZmlsZQ%3D%3D?line=3'>4</a>\u001b[0m \u001b[39mfor\u001b[39;00m i \u001b[39min\u001b[39;00m \u001b[39mrange\u001b[39m(\u001b[39m30\u001b[39m):\n\u001b[0;32m----> <a href='vscode-notebook-cell:/home/aman/Dropbox%20%28Penn%29/DCR/notebooks/AdversarialGMM/DCR.ipynb#X26sZmlsZQ%3D%3D?line=4'>5</a>\u001b[0m     theta,V \u001b[39m=\u001b[39m runCrossFitDCR(fname\u001b[39m=\u001b[39;49mfname)\n\u001b[1;32m      <a href='vscode-notebook-cell:/home/aman/Dropbox%20%28Penn%29/DCR/notebooks/AdversarialGMM/DCR.ipynb#X26sZmlsZQ%3D%3D?line=5'>6</a>\u001b[0m     \u001b[39mprint\u001b[39m(theta)\n\u001b[1;32m      <a href='vscode-notebook-cell:/home/aman/Dropbox%20%28Penn%29/DCR/notebooks/AdversarialGMM/DCR.ipynb#X26sZmlsZQ%3D%3D?line=6'>7</a>\u001b[0m     thetas\u001b[39m.\u001b[39mappend(theta)\n",
      "\u001b[1;32m/home/aman/Dropbox (Penn)/DCR/notebooks/AdversarialGMM/DCR.ipynb Cell 21\u001b[0m in \u001b[0;36mrunCrossFitDCR\u001b[0;34m(n, fname)\u001b[0m\n\u001b[1;32m     <a href='vscode-notebook-cell:/home/aman/Dropbox%20%28Penn%29/DCR/notebooks/AdversarialGMM/DCR.ipynb#X26sZmlsZQ%3D%3D?line=22'>23</a>\u001b[0m     \u001b[39mreturn\u001b[39;00m point_1 \u001b[39m-\u001b[39m point_0\n\u001b[1;32m     <a href='vscode-notebook-cell:/home/aman/Dropbox%20%28Penn%29/DCR/notebooks/AdversarialGMM/DCR.ipynb#X26sZmlsZQ%3D%3D?line=24'>25</a>\u001b[0m agmm_1    \u001b[39m=\u001b[39m estimateGMM(Z_1, T_1, Y_1)\n\u001b[0;32m---> <a href='vscode-notebook-cell:/home/aman/Dropbox%20%28Penn%29/DCR/notebooks/AdversarialGMM/DCR.ipynb#X26sZmlsZQ%3D%3D?line=25'>26</a>\u001b[0m areisz_1  \u001b[39m=\u001b[39m estimateReisz(Z_1, T_1, Y_1, moment_func \u001b[39m=\u001b[39;49m moment_func)\n\u001b[1;32m     <a href='vscode-notebook-cell:/home/aman/Dropbox%20%28Penn%29/DCR/notebooks/AdversarialGMM/DCR.ipynb#X26sZmlsZQ%3D%3D?line=26'>27</a>\u001b[0m theta_1, V_1   \u001b[39m=\u001b[39m compute_theta_V(Z_2, T_2, Y_2, agmm_1, areisz_1, ystd_1, moment_func_agmm\u001b[39m=\u001b[39mmoment_func_agmm) \n\u001b[1;32m     <a href='vscode-notebook-cell:/home/aman/Dropbox%20%28Penn%29/DCR/notebooks/AdversarialGMM/DCR.ipynb#X26sZmlsZQ%3D%3D?line=27'>28</a>\u001b[0m agmm_2    \u001b[39m=\u001b[39m estimateGMM(Z_2, T_2, Y_2)\n",
      "\u001b[1;32m/home/aman/Dropbox (Penn)/DCR/notebooks/AdversarialGMM/DCR.ipynb Cell 21\u001b[0m in \u001b[0;36mestimateReisz\u001b[0;34m(Z, T, Y, moment_func, n_epochs)\u001b[0m\n\u001b[1;32m     <a href='vscode-notebook-cell:/home/aman/Dropbox%20%28Penn%29/DCR/notebooks/AdversarialGMM/DCR.ipynb#X26sZmlsZQ%3D%3D?line=9'>10</a>\u001b[0m \u001b[39m# For any method that uses an unstructured adversary test function f(z)\u001b[39;00m\n\u001b[1;32m     <a href='vscode-notebook-cell:/home/aman/Dropbox%20%28Penn%29/DCR/notebooks/AdversarialGMM/DCR.ipynb#X26sZmlsZQ%3D%3D?line=10'>11</a>\u001b[0m adversary_fn_reisz \u001b[39m=\u001b[39m nn\u001b[39m.\u001b[39mSequential(nn\u001b[39m.\u001b[39mDropout(p\u001b[39m=\u001b[39mp), nn\u001b[39m.\u001b[39mLinear(n_z, n_hidden), nn\u001b[39m.\u001b[39mLeakyReLU(),\n\u001b[1;32m     <a href='vscode-notebook-cell:/home/aman/Dropbox%20%28Penn%29/DCR/notebooks/AdversarialGMM/DCR.ipynb#X26sZmlsZQ%3D%3D?line=11'>12</a>\u001b[0m                          \u001b[39m#nn.Dropout(p=p), nn.Linear(n_hidden, n_hidden), nn.ReLU(),\u001b[39;00m\n\u001b[1;32m     <a href='vscode-notebook-cell:/home/aman/Dropbox%20%28Penn%29/DCR/notebooks/AdversarialGMM/DCR.ipynb#X26sZmlsZQ%3D%3D?line=12'>13</a>\u001b[0m                          nn\u001b[39m.\u001b[39mDropout(p\u001b[39m=\u001b[39mp), nn\u001b[39m.\u001b[39mLinear(n_hidden, \u001b[39m1\u001b[39m))\n\u001b[0;32m---> <a href='vscode-notebook-cell:/home/aman/Dropbox%20%28Penn%29/DCR/notebooks/AdversarialGMM/DCR.ipynb#X26sZmlsZQ%3D%3D?line=14'>15</a>\u001b[0m areisz \u001b[39m=\u001b[39m AReisz(learner_reisz, adversary_fn_reisz)\u001b[39m.\u001b[39;49mfit(Z, T, Y, moment_func \u001b[39m=\u001b[39;49m moment_func, \n\u001b[1;32m     <a href='vscode-notebook-cell:/home/aman/Dropbox%20%28Penn%29/DCR/notebooks/AdversarialGMM/DCR.ipynb#X26sZmlsZQ%3D%3D?line=15'>16</a>\u001b[0m                                                    learner_lr\u001b[39m=\u001b[39;49mlearner_lr, adversary_lr\u001b[39m=\u001b[39;49madversary_lr,\n\u001b[1;32m     <a href='vscode-notebook-cell:/home/aman/Dropbox%20%28Penn%29/DCR/notebooks/AdversarialGMM/DCR.ipynb#X26sZmlsZQ%3D%3D?line=16'>17</a>\u001b[0m                                    learner_l2\u001b[39m=\u001b[39;49mlearner_l2, adversary_l2\u001b[39m=\u001b[39;49madversary_l2,\n\u001b[1;32m     <a href='vscode-notebook-cell:/home/aman/Dropbox%20%28Penn%29/DCR/notebooks/AdversarialGMM/DCR.ipynb#X26sZmlsZQ%3D%3D?line=17'>18</a>\u001b[0m                                    n_epochs\u001b[39m=\u001b[39;49mn_epochs, bs\u001b[39m=\u001b[39;49mbs, logger\u001b[39m=\u001b[39;49m\u001b[39mNone\u001b[39;49;00m,\n\u001b[1;32m     <a href='vscode-notebook-cell:/home/aman/Dropbox%20%28Penn%29/DCR/notebooks/AdversarialGMM/DCR.ipynb#X26sZmlsZQ%3D%3D?line=18'>19</a>\u001b[0m                                    model_dir\u001b[39m=\u001b[39;49m\u001b[39m'\u001b[39;49m\u001b[39mareisz_model\u001b[39;49m\u001b[39m'\u001b[39;49m, device\u001b[39m=\u001b[39;49mdevice)\n\u001b[1;32m     <a href='vscode-notebook-cell:/home/aman/Dropbox%20%28Penn%29/DCR/notebooks/AdversarialGMM/DCR.ipynb#X26sZmlsZQ%3D%3D?line=19'>20</a>\u001b[0m \u001b[39mreturn\u001b[39;00m areisz\n",
      "File \u001b[0;32m~/Dropbox (Penn)/DCR/notebooks/AdversarialGMM/mliv/neuralnet/areisz.py:150\u001b[0m, in \u001b[0;36m_BaseSupLossAReisz.fit\u001b[0;34m(self, Z, T, Y, moment_func, learner_l2, adversary_l2, adversary_norm_reg, learner_lr, adversary_lr, n_epochs, bs, train_learner_every, train_adversary_every, ols_weight, warm_start, logger, model_dir, device, verbose)\u001b[0m\n\u001b[1;32m    146\u001b[0m     \u001b[39mprint\u001b[39m(\u001b[39m\"\u001b[39m\u001b[39mEpoch #\u001b[39m\u001b[39m\"\u001b[39m, epoch, sep\u001b[39m=\u001b[39m\u001b[39m\"\u001b[39m\u001b[39m\"\u001b[39m)\n\u001b[1;32m    148\u001b[0m \u001b[39mfor\u001b[39;00m it, (zb, xb, yb) \u001b[39min\u001b[39;00m \u001b[39menumerate\u001b[39m(\u001b[39mself\u001b[39m\u001b[39m.\u001b[39mtrain_dl):\n\u001b[0;32m--> 150\u001b[0m     zb, xb, yb \u001b[39m=\u001b[39m \u001b[39mmap\u001b[39m(\u001b[39mlambda\u001b[39;00m x: x\u001b[39m.\u001b[39mto(device), (zb, xb, yb))\n\u001b[1;32m    152\u001b[0m     \u001b[39mif\u001b[39;00m (it \u001b[39m%\u001b[39m train_learner_every \u001b[39m==\u001b[39m \u001b[39m0\u001b[39m):\n\u001b[1;32m    153\u001b[0m         \u001b[39mself\u001b[39m\u001b[39m.\u001b[39mlearner\u001b[39m.\u001b[39mtrain()\n",
      "File \u001b[0;32m~/Dropbox (Penn)/DCR/notebooks/AdversarialGMM/mliv/neuralnet/areisz.py:150\u001b[0m, in \u001b[0;36m_BaseSupLossAReisz.fit.<locals>.<lambda>\u001b[0;34m(x)\u001b[0m\n\u001b[1;32m    146\u001b[0m     \u001b[39mprint\u001b[39m(\u001b[39m\"\u001b[39m\u001b[39mEpoch #\u001b[39m\u001b[39m\"\u001b[39m, epoch, sep\u001b[39m=\u001b[39m\u001b[39m\"\u001b[39m\u001b[39m\"\u001b[39m)\n\u001b[1;32m    148\u001b[0m \u001b[39mfor\u001b[39;00m it, (zb, xb, yb) \u001b[39min\u001b[39;00m \u001b[39menumerate\u001b[39m(\u001b[39mself\u001b[39m\u001b[39m.\u001b[39mtrain_dl):\n\u001b[0;32m--> 150\u001b[0m     zb, xb, yb \u001b[39m=\u001b[39m \u001b[39mmap\u001b[39m(\u001b[39mlambda\u001b[39;00m x: x\u001b[39m.\u001b[39;49mto(device), (zb, xb, yb))\n\u001b[1;32m    152\u001b[0m     \u001b[39mif\u001b[39;00m (it \u001b[39m%\u001b[39m train_learner_every \u001b[39m==\u001b[39m \u001b[39m0\u001b[39m):\n\u001b[1;32m    153\u001b[0m         \u001b[39mself\u001b[39m\u001b[39m.\u001b[39mlearner\u001b[39m.\u001b[39mtrain()\n",
      "\u001b[0;31mKeyboardInterrupt\u001b[0m: "
     ]
    }
   ],
   "source": [
    "counter = 0\n",
    "thetas = []\n",
    "print(true)\n",
    "for i in range(30):\n",
    "    theta,V = runCrossFitDCR(fname=fname)\n",
    "    print(theta)\n",
    "    thetas.append(theta)\n",
    "    se = np.sqrt(V)/np.sqrt(2000)\n",
    "    if true > theta - 1.96*se and true < theta+1.96*se:\n",
    "        counter +=1\n",
    "        print(counter)"
   ]
  },
  {
   "cell_type": "code",
   "execution_count": 31,
   "id": "eea2dd3c-af91-4394-8473-5633826e98cd",
   "metadata": {},
   "outputs": [
    {
     "name": "stdout",
     "output_type": "stream",
     "text": [
      "1.12.0+cu116\n"
     ]
    }
   ],
   "source": [
    "print(torch.__version__)"
   ]
  },
  {
   "cell_type": "code",
   "execution_count": 19,
   "id": "b698e52c-7763-4532-ab1c-841a11011274",
   "metadata": {},
   "outputs": [
    {
     "data": {
      "text/plain": [
       "-0.006206373"
      ]
     },
     "execution_count": 19,
     "metadata": {},
     "output_type": "execute_result"
    }
   ],
   "source": [
    "np.mean([theta - true for theta in thetas])"
   ]
  },
  {
   "cell_type": "code",
   "execution_count": 17,
   "id": "f8fbec03-c1cc-4095-b5e4-d6a6491293c3",
   "metadata": {},
   "outputs": [
    {
     "data": {
      "text/plain": [
       "0.0017706641"
      ]
     },
     "execution_count": 17,
     "metadata": {},
     "output_type": "execute_result"
    }
   ],
   "source": [
    "np.mean([(theta - true)**2 for theta in thetas])"
   ]
  },
  {
   "cell_type": "code",
   "execution_count": null,
   "id": "5fb37708-1fc3-461f-bb33-7c709939aae0",
   "metadata": {},
   "outputs": [],
   "source": [
    "1.96*np.sqrt(5.5816)/np.sqrt(2000)"
   ]
  },
  {
   "cell_type": "code",
   "execution_count": 14,
   "id": "e8925976-a8f8-4c29-a982-cc7cb78237f7",
   "metadata": {},
   "outputs": [],
   "source": [
    "T_test_tens_final = T_train.clone()\n",
    "T_test_tens_final[:,0] =   1 + ( T_train[:,0])"
   ]
  },
  {
   "cell_type": "code",
   "execution_count": 15,
   "id": "6f5d7a52-2d00-430b-99f6-8a418267346e",
   "metadata": {},
   "outputs": [
    {
     "ename": "NameError",
     "evalue": "name 'agmm' is not defined",
     "output_type": "error",
     "traceback": [
      "\u001b[0;31m---------------------------------------------------------------------------\u001b[0m",
      "\u001b[0;31mNameError\u001b[0m                                 Traceback (most recent call last)",
      "Input \u001b[0;32mIn [15]\u001b[0m, in \u001b[0;36m<cell line: 1>\u001b[0;34m()\u001b[0m\n\u001b[0;32m----> 1\u001b[0m point_before \u001b[38;5;241m=\u001b[39m \u001b[43magmm\u001b[49m\u001b[38;5;241m.\u001b[39mpredict(T_train\u001b[38;5;241m.\u001b[39mto(device), model\u001b[38;5;241m=\u001b[39m\u001b[38;5;124m'\u001b[39m\u001b[38;5;124mfinal\u001b[39m\u001b[38;5;124m'\u001b[39m)\n\u001b[1;32m      2\u001b[0m point_after \u001b[38;5;241m=\u001b[39m agmm\u001b[38;5;241m.\u001b[39mpredict(T_test_tens_final\u001b[38;5;241m.\u001b[39mto(device), model\u001b[38;5;241m=\u001b[39m\u001b[38;5;124m'\u001b[39m\u001b[38;5;124mfinal\u001b[39m\u001b[38;5;124m'\u001b[39m)\n",
      "\u001b[0;31mNameError\u001b[0m: name 'agmm' is not defined"
     ]
    }
   ],
   "source": [
    "point_before = agmm.predict(T_train.to(device), model='final')\n",
    "point_after = agmm.predict(T_test_tens_final.to(device), model='final')"
   ]
  },
  {
   "cell_type": "code",
   "execution_count": 103,
   "id": "af06e85a-48d7-49d7-92d6-dd501e094e75",
   "metadata": {},
   "outputs": [
    {
     "data": {
      "text/plain": [
       "0.8827910116917589"
      ]
     },
     "execution_count": 103,
     "metadata": {},
     "output_type": "execute_result"
    }
   ],
   "source": [
    "np.mean(point_after - point_before)*ystd"
   ]
  },
  {
   "cell_type": "code",
   "execution_count": 37,
   "id": "0a22be91-e39b-4a55-8b1c-0c5b83073a26",
   "metadata": {},
   "outputs": [
    {
     "data": {
      "text/plain": [
       "-1.0"
      ]
     },
     "execution_count": 37,
     "metadata": {},
     "output_type": "execute_result"
    }
   ],
   "source": [
    "np.sign(0-.5)"
   ]
  },
  {
   "cell_type": "code",
   "execution_count": 189,
   "id": "9e4fb04b-a521-4717-91f6-1aa12b7efc2b",
   "metadata": {},
   "outputs": [],
   "source": [
    "p = 0.1 # dropout prob of dropout layers throughout notebook\n",
    "n_hidden = 100 # width of hidden layers throughout notebook\n",
    "\n",
    "learner_reisz = nn.Sequential(nn.Dropout(p=p), nn.Linear(n_t, n_hidden), nn.LeakyReLU(),\n",
    "                        #nn.Dropout(p=p), nn.Linear(n_hidden, n_hidden), nn.ReLU(),\n",
    "                        nn.Dropout(p=p), nn.Linear(n_hidden, 1))\n",
    "# For any method that use a projection of z into features g(z)\n",
    "g_features = 100\n",
    "adversary_g_reisz = nn.Sequential(nn.Dropout(p=p), nn.Linear(n_z, n_hidden), nn.LeakyReLU(),\n",
    "                            nn.Dropout(p=p), nn.Linear(n_hidden, g_features), nn.ReLU())\n",
    "# The kernel function\n",
    "kernel_fn_reisz = gaussian\n",
    "# kernel_fn = inverse_multiquadric\n",
    "\n",
    "# For any method that uses an unstructured adversary test function f(z)\n",
    "adversary_fn_reisz = nn.Sequential(nn.Dropout(p=p), nn.Linear(n_z, n_hidden), nn.LeakyReLU(),\n",
    "                             #nn.Dropout(p=p), nn.Linear(n_hidden, n_hidden), nn.ReLU(),\n",
    "                             nn.Dropout(p=p), nn.Linear(n_hidden, 1))"
   ]
  },
  {
   "cell_type": "code",
   "execution_count": 190,
   "id": "d378f694-b335-4f01-af34-9ec16f890425",
   "metadata": {},
   "outputs": [],
   "source": [
    "def logger(learner, adversary, epoch, writer):\n",
    "    writer.add_histogram('learner', learner[-1].weight, epoch)\n",
    "    writer.add_histogram('adversary', adversary[-1].weight, epoch)\n",
    "    log_metrics(Z_val, T_val, Y_val, Z_val, T_val, Y_val, T_test_tens,\n",
    "                learner, adversary, epoch, writer, true_of_T=G_val)\n",
    "\n",
    "np.random.seed(12356)\n",
    "def moment_func(adversary, xb):\n",
    "    xb_1 = xb.clone()\n",
    "    xb_1[:,0] =   1 + xb[:,0]\n",
    "    point_0 = adversary(xb)\n",
    "    point_1 = adversary(xb_1)\n",
    "    return point_1 - point_0"
   ]
  },
  {
   "cell_type": "code",
   "execution_count": null,
   "id": "b7c00001-29f7-4a0d-b9c7-56adb2ba80ea",
   "metadata": {},
   "outputs": [],
   "source": [
    "    \n",
    "\n",
    "    \n",
    "areisz = AReisz(learner_reisz, adversary_fn_reisz).fit(Z_train, T_train, Y_train, moment_func = moment_func, \n",
    "                                                       learner_lr=learner_lr, adversary_lr=adversary_lr,\n",
    "                                       learner_l2=learner_l2, adversary_l2=adversary_l2,\n",
    "                                       n_epochs=1000, bs=bs, logger=logger,\n",
    "                                       model_dir='areisz_model', device=device)"
   ]
  },
  {
   "cell_type": "code",
   "execution_count": 191,
   "id": "91ee9279-723d-490c-a6c9-02c9887e8559",
   "metadata": {
    "scrolled": true,
    "tags": []
   },
   "outputs": [],
   "source": [
    "areisz = estimateReisz(Z_train, T_train, Y_train, moment_func = moment_func)"
   ]
  },
  {
   "cell_type": "code",
   "execution_count": 193,
   "id": "8f96780d-90e9-4659-b27a-74580f6113b7",
   "metadata": {},
   "outputs": [
    {
     "name": "stdout",
     "output_type": "stream",
     "text": [
      "tensor(0.2867)\n",
      "1\n",
      "tensor(0.2736)\n",
      "2\n",
      "tensor(0.3058)\n",
      "3\n",
      "tensor(0.2958)\n",
      "4\n",
      "tensor(0.2607)\n",
      "5\n",
      "tensor(0.3518)\n",
      "6\n",
      "tensor(0.2559)\n",
      "7\n",
      "tensor(0.2529)\n",
      "8\n",
      "tensor(0.2349)\n",
      "9\n",
      "tensor(0.3913)\n",
      "tensor(0.2693)\n",
      "10\n",
      "tensor(0.2566)\n",
      "11\n",
      "tensor(0.2766)\n",
      "12\n",
      "tensor(0.2735)\n",
      "13\n",
      "tensor(0.3242)\n",
      "14\n",
      "tensor(0.3169)\n",
      "15\n",
      "tensor(0.2718)\n",
      "16\n",
      "tensor(0.2714)\n",
      "17\n",
      "tensor(0.2576)\n",
      "18\n",
      "tensor(0.2522)\n",
      "19\n",
      "tensor(0.2778)\n",
      "20\n",
      "tensor(0.3481)\n",
      "21\n",
      "tensor(0.1971)\n",
      "22\n",
      "tensor(0.2181)\n",
      "23\n",
      "tensor(0.2977)\n",
      "24\n",
      "tensor(0.1733)\n",
      "25\n",
      "tensor(0.2716)\n",
      "26\n",
      "tensor(0.3475)\n",
      "27\n",
      "tensor(0.2727)\n",
      "28\n",
      "tensor(0.2922)\n",
      "29\n",
      "tensor(0.2035)\n",
      "30\n",
      "tensor(0.3403)\n",
      "31\n",
      "tensor(0.2661)\n",
      "32\n",
      "tensor(0.1942)\n",
      "33\n",
      "tensor(0.2877)\n",
      "34\n",
      "tensor(0.2541)\n",
      "35\n",
      "tensor(0.2337)\n",
      "36\n",
      "tensor(0.2785)\n",
      "37\n",
      "tensor(0.2603)\n",
      "38\n",
      "tensor(0.2899)\n",
      "39\n",
      "tensor(0.3630)\n",
      "40\n",
      "tensor(0.2227)\n",
      "41\n",
      "tensor(0.1993)\n",
      "42\n",
      "tensor(0.1941)\n",
      "43\n",
      "tensor(0.3066)\n",
      "44\n",
      "tensor(0.1943)\n",
      "45\n",
      "tensor(0.2763)\n",
      "46\n",
      "tensor(0.3369)\n",
      "47\n",
      "tensor(0.4508)\n",
      "tensor(0.4031)\n",
      "48\n",
      "tensor(0.2254)\n",
      "49\n",
      "tensor(0.3075)\n",
      "50\n",
      "tensor(0.1767)\n",
      "51\n",
      "tensor(0.4071)\n",
      "tensor(0.1730)\n",
      "52\n",
      "tensor(0.2476)\n",
      "53\n",
      "tensor(0.2646)\n",
      "54\n",
      "tensor(0.2343)\n",
      "55\n",
      "tensor(0.1731)\n",
      "56\n",
      "tensor(0.3647)\n",
      "57\n",
      "tensor(0.3452)\n",
      "58\n",
      "tensor(0.2535)\n",
      "59\n",
      "tensor(0.3513)\n",
      "60\n",
      "tensor(0.2957)\n",
      "61\n",
      "tensor(0.2940)\n",
      "62\n",
      "tensor(0.0808)\n",
      "tensor(0.2450)\n",
      "63\n",
      "tensor(0.3380)\n",
      "64\n",
      "tensor(0.2275)\n",
      "65\n",
      "tensor(0.2876)\n",
      "66\n",
      "tensor(0.3487)\n",
      "67\n",
      "tensor(0.2519)\n",
      "68\n",
      "tensor(0.1956)\n",
      "69\n",
      "tensor(0.3722)\n",
      "70\n",
      "tensor(0.2661)\n",
      "71\n",
      "tensor(0.2851)\n",
      "72\n",
      "tensor(0.1659)\n",
      "73\n",
      "tensor(0.2425)\n",
      "74\n",
      "tensor(0.1289)\n",
      "75\n",
      "tensor(0.1921)\n",
      "76\n",
      "tensor(0.1412)\n",
      "77\n",
      "tensor(0.2469)\n",
      "78\n",
      "tensor(0.2203)\n",
      "79\n",
      "tensor(0.4055)\n",
      "tensor(0.3565)\n",
      "80\n",
      "tensor(0.2955)\n",
      "81\n",
      "tensor(0.3943)\n",
      "tensor(0.2302)\n",
      "82\n",
      "tensor(0.2395)\n",
      "83\n",
      "tensor(0.1835)\n",
      "84\n",
      "tensor(0.2222)\n",
      "85\n",
      "tensor(0.3098)\n",
      "86\n",
      "tensor(0.2271)\n",
      "87\n",
      "tensor(0.2750)\n",
      "88\n",
      "tensor(0.3208)\n",
      "89\n",
      "tensor(0.2563)\n",
      "90\n",
      "tensor(0.3367)\n",
      "91\n",
      "tensor(0.2380)\n",
      "92\n",
      "tensor(0.1886)\n",
      "93\n"
     ]
    }
   ],
   "source": [
    "counter = 0\n",
    "for i in range(1,100):\n",
    "    n = 1000\n",
    "    n_z = 3\n",
    "    n_t = 3\n",
    "    iv_strength = .6\n",
    "    fname = 'abs'\n",
    "    dgp_num = 5\n",
    "    Z, T, Y, true_fn, ystd, ym = get_data(n, n_z, iv_strength, get_tau_fn(fn_dict[fname]), dgp_num)\n",
    "    if torch.cuda.is_available():\n",
    "        torch.cuda.empty_cache()\n",
    "    Z_train, Z_val, T_train, T_val, Y_train, Y_val = train_test_split(Z, T, Y, test_size=.1, shuffle=True)\n",
    "    Z_train, T_train, Y_train = map(lambda x: torch.Tensor(x), (Z_train, T_train, Y_train))\n",
    "    Z_val, T_val, Y_val = map(lambda x: torch.Tensor(x).to(device), (Z_val, T_val, Y_val))\n",
    "    G_train = true_fn(T_train)\n",
    "    G_val = true_fn(T_val.cpu())\n",
    "    G_train, G_val = map(lambda x: x.to(device), (G_train,G_val))\n",
    "    T_test_tens = torch.Tensor(T_test).to(device)\n",
    "    G_test_tens = true_fn(T_test_tens.cpu()).to(device)\n",
    "    theta = torch.mean(np.multiply(areisz.predict(Z_train.to(device), model='final').flatten(), \n",
    "                           (Y_train.cpu()-agmm.predict(T_train.to(device) , model='final') ).flatten())*ystd  + moment_func_agmm(agmm, T_train).flatten()*ystd)\n",
    "    print(theta)\n",
    "    psi = (np.multiply(areisz.predict(Z_train.to(device), model='final').flatten(), \n",
    "                           (Y_train.cpu()-agmm.predict(T_train.to(device), model='final')).flatten())*ystd  + moment_func_agmm(agmm, T_train).flatten()*ystd - theta)**2\n",
    "    V = torch.mean(psi)\n",
    "    se = np.sqrt(V)\n",
    "    if 0.26 > theta - 1.96*se/np.sqrt(1000) and 0.26 < theta+1.96*se/np.sqrt(1000):\n",
    "        counter +=1\n",
    "        print(counter)\n",
    "        \n"
   ]
  },
  {
   "cell_type": "code",
   "execution_count": 228,
   "id": "4f60d31e-a55f-4012-864f-a81bab306e52",
   "metadata": {},
   "outputs": [],
   "source": []
  },
  {
   "cell_type": "code",
   "execution_count": 229,
   "id": "c3ec051e-e3a3-4711-958c-e3228d470269",
   "metadata": {},
   "outputs": [
    {
     "name": "stdout",
     "output_type": "stream",
     "text": [
      "tensor(-0.0195)\n"
     ]
    }
   ],
   "source": [
    "print(theta)"
   ]
  },
  {
   "cell_type": "code",
   "execution_count": 230,
   "id": "3a4d8262-431e-4fd8-8ff6-0d6c05a810d5",
   "metadata": {},
   "outputs": [],
   "source": []
  },
  {
   "cell_type": "code",
   "execution_count": 231,
   "id": "3fe17243-da73-4ce6-8e96-3e0bfe3cd1f5",
   "metadata": {},
   "outputs": [],
   "source": []
  },
  {
   "cell_type": "code",
   "execution_count": 232,
   "id": "427d4cd1-1c16-4522-b1b7-11489e7463a2",
   "metadata": {},
   "outputs": [
    {
     "data": {
      "text/plain": [
       "(tensor(-0.1135), tensor(0.0745))"
      ]
     },
     "execution_count": 232,
     "metadata": {},
     "output_type": "execute_result"
    }
   ],
   "source": [
    "theta - 1.96*se/np.sqrt(1000), theta+1.96*se/np.sqrt(1000)"
   ]
  },
  {
   "cell_type": "code",
   "execution_count": null,
   "id": "f5b20266-b05f-493c-80cc-e9718f51afc2",
   "metadata": {},
   "outputs": [],
   "source": []
  }
 ],
 "metadata": {
  "kernelspec": {
   "display_name": "bond",
   "language": "python",
   "name": "python3"
  },
  "language_info": {
   "codemirror_mode": {
    "name": "ipython",
    "version": 3
   },
   "file_extension": ".py",
   "mimetype": "text/x-python",
   "name": "python",
   "nbconvert_exporter": "python",
   "pygments_lexer": "ipython3",
   "version": "3.9.12"
  },
  "vscode": {
   "interpreter": {
    "hash": "6f782c3761e8676dd43b2a7566051f40aa1c374af8509c6b7272e3896347480c"
   }
  }
 },
 "nbformat": 4,
 "nbformat_minor": 5
}
